{
 "cells": [
  {
   "cell_type": "markdown",
   "metadata": {},
   "source": [
    "### Prüfen und installieren der benötigten Pakete"
   ]
  },
  {
   "cell_type": "code",
   "execution_count": 1,
   "metadata": {
    "collapsed": true
   },
   "outputs": [
    {
     "name": "stderr",
     "output_type": "stream",
     "text": [
      "Loading required package: stringdist\n",
      "Loading required package: plotly\n",
      "Loading required package: ggplot2\n",
      "\n",
      "Attaching package: 'plotly'\n",
      "\n",
      "The following object is masked from 'package:ggplot2':\n",
      "\n",
      "    last_plot\n",
      "\n",
      "The following object is masked from 'package:stats':\n",
      "\n",
      "    filter\n",
      "\n",
      "The following object is masked from 'package:graphics':\n",
      "\n",
      "    layout\n",
      "\n",
      "Loading required package: RColorBrewer\n",
      "Loading required package: gplots\n",
      "\n",
      "Attaching package: 'gplots'\n",
      "\n",
      "The following object is masked from 'package:stats':\n",
      "\n",
      "    lowess\n",
      "\n",
      "Loading required package: tm\n",
      "Loading required package: NLP\n",
      "\n",
      "Attaching package: 'NLP'\n",
      "\n",
      "The following object is masked from 'package:ggplot2':\n",
      "\n",
      "    annotate\n",
      "\n",
      "Loading required package: SnowballC\n",
      "\n",
      "Attaching package: 'dplyr'\n",
      "\n",
      "The following objects are masked from 'package:stats':\n",
      "\n",
      "    filter, lag\n",
      "\n",
      "The following objects are masked from 'package:base':\n",
      "\n",
      "    intersect, setdiff, setequal, union\n",
      "\n"
     ]
    }
   ],
   "source": [
    "if (!require(\"stringdist\")) {\n",
    "   install.packages(\"stringdist\", repos=\"https://cran.uni-muenster.de/\")\n",
    "   library(stringdist)\n",
    "   }\n",
    "\n",
    "if (!require(\"plotly\")) {\n",
    "   install.packages(\"plotly\", repos=\"https://cran.uni-muenster.de/\")\n",
    "   library(plotly)\n",
    "   }\n",
    "\n",
    "if (!require(\"RColorBrewer\")) {\n",
    "   install.packages(\"RColorBrewer\", repos=\"https://cran.uni-muenster.de/\")\n",
    "   library(RColorBrewer)\n",
    "   }\n",
    "\n",
    "if (!require(\"gplots\")) {\n",
    "   install.packages(\"gplots\", dependencies = TRUE,repos=\"https://cran.uni-muenster.de\")\n",
    "   library(gplots)\n",
    "   }\n",
    "\n",
    "if (!require(\"tm\")) {\n",
    "   install.packages(\"tm\", dependencies = TRUE,repos=\"https://cran.uni-muenster.de\")\n",
    "   library(tm)\n",
    "   }\n",
    "\n",
    "if (!require(\"SnowballC\")) {\n",
    "   install.packages(\"SnowballC\", dependencies = TRUE,repos=\"https://cran.uni-muenster.de\")\n",
    "   library(SnowballC)\n",
    "   }\n",
    "\n",
    "library(reshape2)\n",
    "library(dplyr)"
   ]
  },
  {
   "cell_type": "markdown",
   "metadata": {
    "collapsed": false
   },
   "source": [
    "## Laden der Daten"
   ]
  },
  {
   "cell_type": "code",
   "execution_count": 3,
   "metadata": {
    "collapsed": false
   },
   "outputs": [],
   "source": [
    "AnforderungenDB <- read.csv(\"skillsDB.csv\", sep=\";\")"
   ]
  },
  {
   "cell_type": "code",
   "execution_count": 4,
   "metadata": {
    "collapsed": true
   },
   "outputs": [],
   "source": [
    "KenntnisseDB <- read.csv(\"skills.csv\", sep=\";\")"
   ]
  },
  {
   "cell_type": "markdown",
   "metadata": {},
   "source": [
    "### Untersuchen der Daten"
   ]
  },
  {
   "cell_type": "code",
   "execution_count": 5,
   "metadata": {
    "collapsed": false
   },
   "outputs": [
    {
     "data": {
      "text/html": [
       "<ol class=list-inline>\n",
       "\t<li>47</li>\n",
       "\t<li>2</li>\n",
       "</ol>\n"
      ],
      "text/latex": [
       "\\begin{enumerate*}\n",
       "\\item 47\n",
       "\\item 2\n",
       "\\end{enumerate*}\n"
      ],
      "text/markdown": [
       "1. 47\n",
       "2. 2\n",
       "\n",
       "\n"
      ],
      "text/plain": [
       "[1] 47  2"
      ]
     },
     "metadata": {},
     "output_type": "display_data"
    }
   ],
   "source": [
    "dim(AnforderungenDB)"
   ]
  },
  {
   "cell_type": "code",
   "execution_count": 6,
   "metadata": {
    "collapsed": false
   },
   "outputs": [
    {
     "data": {
      "text/html": [
       "<ol class=list-inline>\n",
       "\t<li>154</li>\n",
       "\t<li>1</li>\n",
       "</ol>\n"
      ],
      "text/latex": [
       "\\begin{enumerate*}\n",
       "\\item 154\n",
       "\\item 1\n",
       "\\end{enumerate*}\n"
      ],
      "text/markdown": [
       "1. 154\n",
       "2. 1\n",
       "\n",
       "\n"
      ],
      "text/plain": [
       "[1] 154   1"
      ]
     },
     "metadata": {},
     "output_type": "display_data"
    }
   ],
   "source": [
    "dim(KenntnisseDB)"
   ]
  },
  {
   "cell_type": "markdown",
   "metadata": {},
   "source": [
    "AnforderungenDB ist eine Liste von Anforderungen (z.B. für eine zu besetzende Stelle), gegen die wir die Kenntnisse matchen."
   ]
  },
  {
   "cell_type": "code",
   "execution_count": 7,
   "metadata": {
    "collapsed": false
   },
   "outputs": [
    {
     "data": {
      "text/html": [
       "<table>\n",
       "<thead><tr><th scope=col>Skill</th><th scope=col>Kategorie</th></tr></thead>\n",
       "<tbody>\n",
       "\t<tr><td>V-Modell               </td><td>Entwicklungsmethoden   </td></tr>\n",
       "\t<tr><td>Wasserfallmodell       </td><td>Entwicklungsmethoden   </td></tr>\n",
       "\t<tr><td>Spiralmodell           </td><td>Entwicklungsmethoden   </td></tr>\n",
       "\t<tr><td>Agile Modelle          </td><td>Entwicklungsmethoden   </td></tr>\n",
       "\t<tr><td>Scrum                  </td><td>Entwicklungsmethoden   </td></tr>\n",
       "\t<tr><td>test-driven development</td><td>Entwicklungsmethoden   </td></tr>\n",
       "</tbody>\n",
       "</table>\n"
      ],
      "text/latex": [
       "\\begin{tabular}{r|ll}\n",
       " Skill & Kategorie\\\\\n",
       "\\hline\n",
       "\t V-Modell                & Entwicklungsmethoden   \\\\\n",
       "\t Wasserfallmodell        & Entwicklungsmethoden   \\\\\n",
       "\t Spiralmodell            & Entwicklungsmethoden   \\\\\n",
       "\t Agile Modelle           & Entwicklungsmethoden   \\\\\n",
       "\t Scrum                   & Entwicklungsmethoden   \\\\\n",
       "\t test-driven development & Entwicklungsmethoden   \\\\\n",
       "\\end{tabular}\n"
      ],
      "text/markdown": [
       "\n",
       "Skill | Kategorie | \n",
       "|---|---|---|---|---|---|\n",
       "| V-Modell                | Entwicklungsmethoden    | \n",
       "| Wasserfallmodell        | Entwicklungsmethoden    | \n",
       "| Spiralmodell            | Entwicklungsmethoden    | \n",
       "| Agile Modelle           | Entwicklungsmethoden    | \n",
       "| Scrum                   | Entwicklungsmethoden    | \n",
       "| test-driven development | Entwicklungsmethoden    | \n",
       "\n",
       "\n"
      ],
      "text/plain": [
       "  Skill                   Kategorie           \n",
       "1 V-Modell                Entwicklungsmethoden\n",
       "2 Wasserfallmodell        Entwicklungsmethoden\n",
       "3 Spiralmodell            Entwicklungsmethoden\n",
       "4 Agile Modelle           Entwicklungsmethoden\n",
       "5 Scrum                   Entwicklungsmethoden\n",
       "6 test-driven development Entwicklungsmethoden"
      ]
     },
     "metadata": {},
     "output_type": "display_data"
    }
   ],
   "source": [
    "head(AnforderungenDB)"
   ]
  },
  {
   "cell_type": "markdown",
   "metadata": {},
   "source": [
    "KenntnisseDB ist eine Liste von Kenntnissen (z.B. aus dem CV eines Bewerbers), die wir gegen unsere Anforderungen matchen. Die Kenntnisse enthalten unterschiedliche Schreibweisen und Rechtschreibfehler."
   ]
  },
  {
   "cell_type": "code",
   "execution_count": 8,
   "metadata": {
    "collapsed": false
   },
   "outputs": [
    {
     "data": {
      "text/html": [
       "<table>\n",
       "<thead><tr><th scope=col>Skill</th></tr></thead>\n",
       "<tbody>\n",
       "\t<tr><td>V-Modell                 </td></tr>\n",
       "\t<tr><td>Entwicklung nach V-Modell</td></tr>\n",
       "\t<tr><td>VModell                  </td></tr>\n",
       "\t<tr><td>V-Model                  </td></tr>\n",
       "\t<tr><td>Wasserfallmodell         </td></tr>\n",
       "\t<tr><td>waterfall model          </td></tr>\n",
       "</tbody>\n",
       "</table>\n"
      ],
      "text/latex": [
       "\\begin{tabular}{r|l}\n",
       " Skill\\\\\n",
       "\\hline\n",
       "\t V-Modell                 \\\\\n",
       "\t Entwicklung nach V-Modell\\\\\n",
       "\t VModell                  \\\\\n",
       "\t V-Model                  \\\\\n",
       "\t Wasserfallmodell         \\\\\n",
       "\t waterfall model          \\\\\n",
       "\\end{tabular}\n"
      ],
      "text/markdown": [
       "\n",
       "Skill | \n",
       "|---|---|---|---|---|---|\n",
       "| V-Modell                  | \n",
       "| Entwicklung nach V-Modell | \n",
       "| VModell                   | \n",
       "| V-Model                   | \n",
       "| Wasserfallmodell          | \n",
       "| waterfall model           | \n",
       "\n",
       "\n"
      ],
      "text/plain": [
       "  Skill                    \n",
       "1 V-Modell                 \n",
       "2 Entwicklung nach V-Modell\n",
       "3 VModell                  \n",
       "4 V-Model                  \n",
       "5 Wasserfallmodell         \n",
       "6 waterfall model          "
      ]
     },
     "metadata": {},
     "output_type": "display_data"
    }
   ],
   "source": [
    "head(KenntnisseDB)"
   ]
  },
  {
   "cell_type": "markdown",
   "metadata": {},
   "source": [
    "Zufälliges Ziehen von 20 Zeilen aus KenntnisseDB, um ein Kandidatenprofil aus 20 Skills zu simulieren"
   ]
  },
  {
   "cell_type": "code",
   "execution_count": 9,
   "metadata": {
    "collapsed": false
   },
   "outputs": [
    {
     "data": {
      "text/html": [
       "<ol class=list-inline>\n",
       "\t<li>LabVIEW Programmieren</li>\n",
       "\t<li>Visual basic Programmierung</li>\n",
       "\t<li>Entwicklung in C</li>\n",
       "\t<li>Java-Programmierung</li>\n",
       "\t<li>desing</li>\n",
       "\t<li>Ilmplementierung</li>\n",
       "\t<li>Javaentwicklung</li>\n",
       "\t<li>test-driven development</li>\n",
       "\t<li>MS-Access</li>\n",
       "\t<li>mySQL</li>\n",
       "\t<li>ABAP-Development</li>\n",
       "\t<li>SAP-CRM</li>\n",
       "\t<li>Datawarehousing</li>\n",
       "\t<li>Design</li>\n",
       "\t<li>Analyse</li>\n",
       "\t<li>Programmieren in C++</li>\n",
       "\t<li>Programmieren in Perl</li>\n",
       "\t<li>V-Modell</li>\n",
       "\t<li>Aufbau mySQL-Datenbank</li>\n",
       "\t<li>Javacsript</li>\n",
       "</ol>\n"
      ],
      "text/latex": [
       "\\begin{enumerate*}\n",
       "\\item LabVIEW Programmieren\n",
       "\\item Visual basic Programmierung\n",
       "\\item Entwicklung in C\n",
       "\\item Java-Programmierung\n",
       "\\item desing\n",
       "\\item Ilmplementierung\n",
       "\\item Javaentwicklung\n",
       "\\item test-driven development\n",
       "\\item MS-Access\n",
       "\\item mySQL\n",
       "\\item ABAP-Development\n",
       "\\item SAP-CRM\n",
       "\\item Datawarehousing\n",
       "\\item Design\n",
       "\\item Analyse\n",
       "\\item Programmieren in C++\n",
       "\\item Programmieren in Perl\n",
       "\\item V-Modell\n",
       "\\item Aufbau mySQL-Datenbank\n",
       "\\item Javacsript\n",
       "\\end{enumerate*}\n"
      ],
      "text/markdown": [
       "1. LabVIEW Programmieren\n",
       "2. Visual basic Programmierung\n",
       "3. Entwicklung in C\n",
       "4. Java-Programmierung\n",
       "5. desing\n",
       "6. Ilmplementierung\n",
       "7. Javaentwicklung\n",
       "8. test-driven development\n",
       "9. MS-Access\n",
       "10. mySQL\n",
       "11. ABAP-Development\n",
       "12. SAP-CRM\n",
       "13. Datawarehousing\n",
       "14. Design\n",
       "15. Analyse\n",
       "16. Programmieren in C++\n",
       "17. Programmieren in Perl\n",
       "18. V-Modell\n",
       "19. Aufbau mySQL-Datenbank\n",
       "20. Javacsript\n",
       "\n",
       "\n"
      ],
      "text/plain": [
       " [1] LabVIEW Programmieren       Visual basic Programmierung\n",
       " [3] Entwicklung in C            Java-Programmierung        \n",
       " [5] desing                      Ilmplementierung           \n",
       " [7] Javaentwicklung             test-driven development    \n",
       " [9] MS-Access                   mySQL                      \n",
       "[11] ABAP-Development            SAP-CRM                    \n",
       "[13] Datawarehousing             Design                     \n",
       "[15] Analyse                     Programmieren in C++       \n",
       "[17] Programmieren in Perl       V-Modell                   \n",
       "[19] Aufbau mySQL-Datenbank      Javacsript                 \n",
       "154 Levels: ABAP ABAP-Development ABAP Entwicklung ... waterfall model"
      ]
     },
     "metadata": {},
     "output_type": "display_data"
    }
   ],
   "source": [
    "Kandidat <-KenntnisseDB[sample(nrow(KenntnisseDB),20, replace=F),]\n",
    "Kandidat"
   ]
  },
  {
   "cell_type": "markdown",
   "metadata": {},
   "source": [
    "Zufälliges Ziehen von 10 Zeilen aus AnforderungenDB, um ein Stellenprofil aus 10 Skills zu simulieren"
   ]
  },
  {
   "cell_type": "code",
   "execution_count": 10,
   "metadata": {
    "collapsed": false
   },
   "outputs": [
    {
     "data": {
      "text/html": [
       "<table>\n",
       "<thead><tr><th></th><th scope=col>Skill</th><th scope=col>Kategorie</th></tr></thead>\n",
       "<tbody>\n",
       "\t<tr><th scope=row>23</th><td>ABAP                </td><td>Programmiersprachen </td></tr>\n",
       "\t<tr><th scope=row>26</th><td>MS-SQL Server       </td><td>Datenbanken         </td></tr>\n",
       "\t<tr><th scope=row>29</th><td>PostgreSQL          </td><td>Datenbanken         </td></tr>\n",
       "\t<tr><th scope=row>28</th><td>MS-Access           </td><td>Datenbanken         </td></tr>\n",
       "\t<tr><th scope=row>35</th><td>SAP CRM             </td><td>Business IT         </td></tr>\n",
       "\t<tr><th scope=row>37</th><td>Modulbetreuung      </td><td>Business IT         </td></tr>\n",
       "\t<tr><th scope=row>5</th><td>Scrum               </td><td>Entwicklungsmethoden</td></tr>\n",
       "\t<tr><th scope=row>3</th><td>Spiralmodell        </td><td>Entwicklungsmethoden</td></tr>\n",
       "\t<tr><th scope=row>24</th><td>VHDL                </td><td>Programmiersprachen </td></tr>\n",
       "\t<tr><th scope=row>30</th><td>SQL                 </td><td>Datenbanken         </td></tr>\n",
       "</tbody>\n",
       "</table>\n"
      ],
      "text/latex": [
       "\\begin{tabular}{r|ll}\n",
       "  & Skill & Kategorie\\\\\n",
       "\\hline\n",
       "\t23 & ABAP                 & Programmiersprachen \\\\\n",
       "\t26 & MS-SQL Server        & Datenbanken         \\\\\n",
       "\t29 & PostgreSQL           & Datenbanken         \\\\\n",
       "\t28 & MS-Access            & Datenbanken         \\\\\n",
       "\t35 & SAP CRM              & Business IT         \\\\\n",
       "\t37 & Modulbetreuung       & Business IT         \\\\\n",
       "\t5 & Scrum                & Entwicklungsmethoden\\\\\n",
       "\t3 & Spiralmodell         & Entwicklungsmethoden\\\\\n",
       "\t24 & VHDL                 & Programmiersprachen \\\\\n",
       "\t30 & SQL                  & Datenbanken         \\\\\n",
       "\\end{tabular}\n"
      ],
      "text/markdown": [
       "\n",
       "| <!--/--> | Skill | Kategorie | \n",
       "|---|---|---|---|---|---|---|---|---|---|\n",
       "| 23 | ABAP                 | Programmiersprachen  | \n",
       "| 26 | MS-SQL Server        | Datenbanken          | \n",
       "| 29 | PostgreSQL           | Datenbanken          | \n",
       "| 28 | MS-Access            | Datenbanken          | \n",
       "| 35 | SAP CRM              | Business IT          | \n",
       "| 37 | Modulbetreuung       | Business IT          | \n",
       "| 5 | Scrum                | Entwicklungsmethoden | \n",
       "| 3 | Spiralmodell         | Entwicklungsmethoden | \n",
       "| 24 | VHDL                 | Programmiersprachen  | \n",
       "| 30 | SQL                  | Datenbanken          | \n",
       "\n",
       "\n"
      ],
      "text/plain": [
       "   Skill          Kategorie           \n",
       "23 ABAP           Programmiersprachen \n",
       "26 MS-SQL Server  Datenbanken         \n",
       "29 PostgreSQL     Datenbanken         \n",
       "28 MS-Access      Datenbanken         \n",
       "35 SAP CRM        Business IT         \n",
       "37 Modulbetreuung Business IT         \n",
       "5  Scrum          Entwicklungsmethoden\n",
       "3  Spiralmodell   Entwicklungsmethoden\n",
       "24 VHDL           Programmiersprachen \n",
       "30 SQL            Datenbanken         "
      ]
     },
     "metadata": {},
     "output_type": "display_data"
    }
   ],
   "source": [
    "Anforderungen <- AnforderungenDB[sample(nrow(AnforderungenDB), 10, replace=F),]\n",
    "Anforderungen"
   ]
  },
  {
   "cell_type": "markdown",
   "metadata": {},
   "source": [
    "## Preprocessing"
   ]
  },
  {
   "cell_type": "markdown",
   "metadata": {},
   "source": [
    "Um die Berechnung der Ähnlichkeit zu vereinfachen werden zunächst die Strings zu lowercase transformiert."
   ]
  },
  {
   "cell_type": "code",
   "execution_count": 11,
   "metadata": {
    "collapsed": false
   },
   "outputs": [
    {
     "data": {
      "text/html": [
       "<table>\n",
       "<thead><tr><th></th><th scope=col>Skill</th><th scope=col>Kategorie</th></tr></thead>\n",
       "<tbody>\n",
       "\t<tr><th scope=row>23</th><td>abap                </td><td>Programmiersprachen </td></tr>\n",
       "\t<tr><th scope=row>26</th><td>ms-sql server       </td><td>Datenbanken         </td></tr>\n",
       "\t<tr><th scope=row>29</th><td>postgresql          </td><td>Datenbanken         </td></tr>\n",
       "\t<tr><th scope=row>28</th><td>ms-access           </td><td>Datenbanken         </td></tr>\n",
       "\t<tr><th scope=row>35</th><td>sap crm             </td><td>Business IT         </td></tr>\n",
       "\t<tr><th scope=row>37</th><td>modulbetreuung      </td><td>Business IT         </td></tr>\n",
       "\t<tr><th scope=row>5</th><td>scrum               </td><td>Entwicklungsmethoden</td></tr>\n",
       "\t<tr><th scope=row>3</th><td>spiralmodell        </td><td>Entwicklungsmethoden</td></tr>\n",
       "\t<tr><th scope=row>24</th><td>vhdl                </td><td>Programmiersprachen </td></tr>\n",
       "\t<tr><th scope=row>30</th><td>sql                 </td><td>Datenbanken         </td></tr>\n",
       "</tbody>\n",
       "</table>\n"
      ],
      "text/latex": [
       "\\begin{tabular}{r|ll}\n",
       "  & Skill & Kategorie\\\\\n",
       "\\hline\n",
       "\t23 & abap                 & Programmiersprachen \\\\\n",
       "\t26 & ms-sql server        & Datenbanken         \\\\\n",
       "\t29 & postgresql           & Datenbanken         \\\\\n",
       "\t28 & ms-access            & Datenbanken         \\\\\n",
       "\t35 & sap crm              & Business IT         \\\\\n",
       "\t37 & modulbetreuung       & Business IT         \\\\\n",
       "\t5 & scrum                & Entwicklungsmethoden\\\\\n",
       "\t3 & spiralmodell         & Entwicklungsmethoden\\\\\n",
       "\t24 & vhdl                 & Programmiersprachen \\\\\n",
       "\t30 & sql                  & Datenbanken         \\\\\n",
       "\\end{tabular}\n"
      ],
      "text/markdown": [
       "\n",
       "| <!--/--> | Skill | Kategorie | \n",
       "|---|---|---|---|---|---|---|---|---|---|\n",
       "| 23 | abap                 | Programmiersprachen  | \n",
       "| 26 | ms-sql server        | Datenbanken          | \n",
       "| 29 | postgresql           | Datenbanken          | \n",
       "| 28 | ms-access            | Datenbanken          | \n",
       "| 35 | sap crm              | Business IT          | \n",
       "| 37 | modulbetreuung       | Business IT          | \n",
       "| 5 | scrum                | Entwicklungsmethoden | \n",
       "| 3 | spiralmodell         | Entwicklungsmethoden | \n",
       "| 24 | vhdl                 | Programmiersprachen  | \n",
       "| 30 | sql                  | Datenbanken          | \n",
       "\n",
       "\n"
      ],
      "text/plain": [
       "   Skill          Kategorie           \n",
       "23 abap           Programmiersprachen \n",
       "26 ms-sql server  Datenbanken         \n",
       "29 postgresql     Datenbanken         \n",
       "28 ms-access      Datenbanken         \n",
       "35 sap crm        Business IT         \n",
       "37 modulbetreuung Business IT         \n",
       "5  scrum          Entwicklungsmethoden\n",
       "3  spiralmodell   Entwicklungsmethoden\n",
       "24 vhdl           Programmiersprachen \n",
       "30 sql            Datenbanken         "
      ]
     },
     "metadata": {},
     "output_type": "display_data"
    }
   ],
   "source": [
    "Anforderungen$Skill <- sapply(Anforderungen$Skill, tolower)\n",
    "Anforderungen"
   ]
  },
  {
   "cell_type": "code",
   "execution_count": 12,
   "metadata": {
    "collapsed": false
   },
   "outputs": [
    {
     "data": {
      "text/html": [
       "<ol class=list-inline>\n",
       "\t<li>'labview programmieren'</li>\n",
       "\t<li>'visual basic programmierung'</li>\n",
       "\t<li>'entwicklung in c'</li>\n",
       "\t<li>'java-programmierung'</li>\n",
       "\t<li>'desing'</li>\n",
       "\t<li>'ilmplementierung'</li>\n",
       "\t<li>'javaentwicklung'</li>\n",
       "\t<li>'test-driven development'</li>\n",
       "\t<li>'ms-access'</li>\n",
       "\t<li>'mysql'</li>\n",
       "\t<li>'abap-development'</li>\n",
       "\t<li>'sap-crm'</li>\n",
       "\t<li>'datawarehousing'</li>\n",
       "\t<li>'design'</li>\n",
       "\t<li>'analyse'</li>\n",
       "\t<li>'programmieren in c++'</li>\n",
       "\t<li>'programmieren in perl'</li>\n",
       "\t<li>'v-modell'</li>\n",
       "\t<li>'aufbau mysql-datenbank'</li>\n",
       "\t<li>'javacsript'</li>\n",
       "</ol>\n"
      ],
      "text/latex": [
       "\\begin{enumerate*}\n",
       "\\item 'labview programmieren'\n",
       "\\item 'visual basic programmierung'\n",
       "\\item 'entwicklung in c'\n",
       "\\item 'java-programmierung'\n",
       "\\item 'desing'\n",
       "\\item 'ilmplementierung'\n",
       "\\item 'javaentwicklung'\n",
       "\\item 'test-driven development'\n",
       "\\item 'ms-access'\n",
       "\\item 'mysql'\n",
       "\\item 'abap-development'\n",
       "\\item 'sap-crm'\n",
       "\\item 'datawarehousing'\n",
       "\\item 'design'\n",
       "\\item 'analyse'\n",
       "\\item 'programmieren in c++'\n",
       "\\item 'programmieren in perl'\n",
       "\\item 'v-modell'\n",
       "\\item 'aufbau mysql-datenbank'\n",
       "\\item 'javacsript'\n",
       "\\end{enumerate*}\n"
      ],
      "text/markdown": [
       "1. 'labview programmieren'\n",
       "2. 'visual basic programmierung'\n",
       "3. 'entwicklung in c'\n",
       "4. 'java-programmierung'\n",
       "5. 'desing'\n",
       "6. 'ilmplementierung'\n",
       "7. 'javaentwicklung'\n",
       "8. 'test-driven development'\n",
       "9. 'ms-access'\n",
       "10. 'mysql'\n",
       "11. 'abap-development'\n",
       "12. 'sap-crm'\n",
       "13. 'datawarehousing'\n",
       "14. 'design'\n",
       "15. 'analyse'\n",
       "16. 'programmieren in c++'\n",
       "17. 'programmieren in perl'\n",
       "18. 'v-modell'\n",
       "19. 'aufbau mysql-datenbank'\n",
       "20. 'javacsript'\n",
       "\n",
       "\n"
      ],
      "text/plain": [
       " [1] \"labview programmieren\"       \"visual basic programmierung\"\n",
       " [3] \"entwicklung in c\"            \"java-programmierung\"        \n",
       " [5] \"desing\"                      \"ilmplementierung\"           \n",
       " [7] \"javaentwicklung\"             \"test-driven development\"    \n",
       " [9] \"ms-access\"                   \"mysql\"                      \n",
       "[11] \"abap-development\"            \"sap-crm\"                    \n",
       "[13] \"datawarehousing\"             \"design\"                     \n",
       "[15] \"analyse\"                     \"programmieren in c++\"       \n",
       "[17] \"programmieren in perl\"       \"v-modell\"                   \n",
       "[19] \"aufbau mysql-datenbank\"      \"javacsript\"                 "
      ]
     },
     "metadata": {},
     "output_type": "display_data"
    }
   ],
   "source": [
    "Kandidat <- tolower(Kandidat)\n",
    "Kandidat"
   ]
  },
  {
   "cell_type": "markdown",
   "metadata": {},
   "source": [
    "Dann werden \"-\" durch Leerzeichen ersetzt."
   ]
  },
  {
   "cell_type": "code",
   "execution_count": 13,
   "metadata": {
    "collapsed": true
   },
   "outputs": [],
   "source": [
    "Anforderungen$Skill <- gsub(\"-\", \" \", Anforderungen$Skill)"
   ]
  },
  {
   "cell_type": "code",
   "execution_count": 37,
   "metadata": {
    "collapsed": true
   },
   "outputs": [],
   "source": [
    "Kandidat <- gsub(\"-\", \" \", Kandidat)"
   ]
  },
  {
   "cell_type": "markdown",
   "metadata": {},
   "source": [
    "Um die Funktionen der Bibliothek \"tm\" nutzen zu können, müssen die Datensätze transformiert werden:"
   ]
  },
  {
   "cell_type": "code",
   "execution_count": 15,
   "metadata": {
    "collapsed": false
   },
   "outputs": [],
   "source": [
    "corpus_anf <- VCorpus(VectorSource(Anforderungen$Skill))\n",
    "corpus_kand <- VCorpus(VectorSource(Kandidat))"
   ]
  },
  {
   "cell_type": "markdown",
   "metadata": {},
   "source": [
    "Dann wird stemming und stopword removal durchgeführt"
   ]
  },
  {
   "cell_type": "code",
   "execution_count": 16,
   "metadata": {
    "collapsed": false
   },
   "outputs": [],
   "source": [
    "corpus_anf <- tm_map(corpus_anf, removeWords, stopwords(\"german\"))\n",
    "corpus_kand <- tm_map(corpus_kand, removeWords, stopwords(\"german\"))"
   ]
  },
  {
   "cell_type": "code",
   "execution_count": 23,
   "metadata": {
    "collapsed": false
   },
   "outputs": [],
   "source": [
    "corpus_anf <- tm_map(corpus_anf, stemDocument, language=\"german\")\n",
    "corpus_kand <- tm_map(corpus_kand, stemDocument, language=\"german\")"
   ]
  },
  {
   "cell_type": "markdown",
   "metadata": {},
   "source": [
    "Jetzt werden die Datensätze zurück transformiert."
   ]
  },
  {
   "cell_type": "code",
   "execution_count": 24,
   "metadata": {
    "collapsed": false
   },
   "outputs": [],
   "source": [
    "anf_data <- data.frame(lapply(corpus_anf, as.character))\n",
    "kand_data <- data.frame(lapply(corpus_kand, as.character))"
   ]
  },
  {
   "cell_type": "code",
   "execution_count": 25,
   "metadata": {
    "collapsed": false
   },
   "outputs": [],
   "source": [
    "anf_data <- t(anf_data)\n",
    "kand_data <- t(kand_data)"
   ]
  },
  {
   "cell_type": "code",
   "execution_count": 26,
   "metadata": {
    "collapsed": false
   },
   "outputs": [
    {
     "data": {
      "text/html": [
       "<table>\n",
       "<tbody>\n",
       "\t<tr><th scope=row>X1</th><td>abap       </td></tr>\n",
       "\t<tr><th scope=row>X2</th><td>ms sql serv</td></tr>\n",
       "\t<tr><th scope=row>X3</th><td>postgresql </td></tr>\n",
       "\t<tr><th scope=row>X4</th><td>ms access  </td></tr>\n",
       "\t<tr><th scope=row>X5</th><td>sap crm    </td></tr>\n",
       "\t<tr><th scope=row>X6</th><td>modulbetreu</td></tr>\n",
       "\t<tr><th scope=row>X7</th><td>scrum      </td></tr>\n",
       "\t<tr><th scope=row>X8</th><td>spiralmodel</td></tr>\n",
       "\t<tr><th scope=row>X9</th><td>vhdl       </td></tr>\n",
       "\t<tr><th scope=row>X10</th><td>sql        </td></tr>\n",
       "</tbody>\n",
       "</table>\n"
      ],
      "text/latex": [
       "\\begin{tabular}{r|l}\n",
       "\tX1 & abap       \\\\\n",
       "\tX2 & ms sql serv\\\\\n",
       "\tX3 & postgresql \\\\\n",
       "\tX4 & ms access  \\\\\n",
       "\tX5 & sap crm    \\\\\n",
       "\tX6 & modulbetreu\\\\\n",
       "\tX7 & scrum      \\\\\n",
       "\tX8 & spiralmodel\\\\\n",
       "\tX9 & vhdl       \\\\\n",
       "\tX10 & sql        \\\\\n",
       "\\end{tabular}\n"
      ],
      "text/markdown": [
       "\n",
       "| X1 | abap        | \n",
       "| X2 | ms sql serv | \n",
       "| X3 | postgresql  | \n",
       "| X4 | ms access   | \n",
       "| X5 | sap crm     | \n",
       "| X6 | modulbetreu | \n",
       "| X7 | scrum       | \n",
       "| X8 | spiralmodel | \n",
       "| X9 | vhdl        | \n",
       "| X10 | sql         | \n",
       "\n",
       "\n"
      ],
      "text/plain": [
       "    [,1]       \n",
       "X1  abap       \n",
       "X2  ms sql serv\n",
       "X3  postgresql \n",
       "X4  ms access  \n",
       "X5  sap crm    \n",
       "X6  modulbetreu\n",
       "X7  scrum      \n",
       "X8  spiralmodel\n",
       "X9  vhdl       \n",
       "X10 sql        "
      ]
     },
     "metadata": {},
     "output_type": "display_data"
    }
   ],
   "source": [
    "anf_data"
   ]
  },
  {
   "cell_type": "code",
   "execution_count": 27,
   "metadata": {
    "collapsed": false
   },
   "outputs": [
    {
     "data": {
      "text/html": [
       "<table>\n",
       "<tbody>\n",
       "\t<tr><th scope=row>X1</th><td>labview programmi       </td></tr>\n",
       "\t<tr><th scope=row>X2</th><td>visual basic programmier</td></tr>\n",
       "\t<tr><th scope=row>X3</th><td>entwickl  c             </td></tr>\n",
       "\t<tr><th scope=row>X4</th><td>java-programmier        </td></tr>\n",
       "\t<tr><th scope=row>X5</th><td>des                     </td></tr>\n",
       "\t<tr><th scope=row>X6</th><td>ilmplementier           </td></tr>\n",
       "\t<tr><th scope=row>X7</th><td>javaentwickl            </td></tr>\n",
       "\t<tr><th scope=row>X8</th><td>test-driv develop       </td></tr>\n",
       "\t<tr><th scope=row>X9</th><td>ms-access               </td></tr>\n",
       "\t<tr><th scope=row>X10</th><td>mysql                   </td></tr>\n",
       "\t<tr><th scope=row>X11</th><td>abap-develop            </td></tr>\n",
       "\t<tr><th scope=row>X12</th><td>sap-crm                 </td></tr>\n",
       "\t<tr><th scope=row>X13</th><td>datawareh               </td></tr>\n",
       "\t<tr><th scope=row>X14</th><td>design                  </td></tr>\n",
       "\t<tr><th scope=row>X15</th><td>anali                   </td></tr>\n",
       "\t<tr><th scope=row>X16</th><td>programmi  c++          </td></tr>\n",
       "\t<tr><th scope=row>X17</th><td>programmi  perl         </td></tr>\n",
       "\t<tr><th scope=row>X18</th><td>v-model                 </td></tr>\n",
       "\t<tr><th scope=row>X19</th><td>aufbau mysql-datenbank  </td></tr>\n",
       "\t<tr><th scope=row>X20</th><td>javacsript              </td></tr>\n",
       "</tbody>\n",
       "</table>\n"
      ],
      "text/latex": [
       "\\begin{tabular}{r|l}\n",
       "\tX1 & labview programmi       \\\\\n",
       "\tX2 & visual basic programmier\\\\\n",
       "\tX3 & entwickl  c             \\\\\n",
       "\tX4 & java-programmier        \\\\\n",
       "\tX5 & des                     \\\\\n",
       "\tX6 & ilmplementier           \\\\\n",
       "\tX7 & javaentwickl            \\\\\n",
       "\tX8 & test-driv develop       \\\\\n",
       "\tX9 & ms-access               \\\\\n",
       "\tX10 & mysql                   \\\\\n",
       "\tX11 & abap-develop            \\\\\n",
       "\tX12 & sap-crm                 \\\\\n",
       "\tX13 & datawareh               \\\\\n",
       "\tX14 & design                  \\\\\n",
       "\tX15 & anali                   \\\\\n",
       "\tX16 & programmi  c++          \\\\\n",
       "\tX17 & programmi  perl         \\\\\n",
       "\tX18 & v-model                 \\\\\n",
       "\tX19 & aufbau mysql-datenbank  \\\\\n",
       "\tX20 & javacsript              \\\\\n",
       "\\end{tabular}\n"
      ],
      "text/markdown": [
       "\n",
       "| X1 | labview programmi        | \n",
       "| X2 | visual basic programmier | \n",
       "| X3 | entwickl  c              | \n",
       "| X4 | java-programmier         | \n",
       "| X5 | des                      | \n",
       "| X6 | ilmplementier            | \n",
       "| X7 | javaentwickl             | \n",
       "| X8 | test-driv develop        | \n",
       "| X9 | ms-access                | \n",
       "| X10 | mysql                    | \n",
       "| X11 | abap-develop             | \n",
       "| X12 | sap-crm                  | \n",
       "| X13 | datawareh                | \n",
       "| X14 | design                   | \n",
       "| X15 | anali                    | \n",
       "| X16 | programmi  c++           | \n",
       "| X17 | programmi  perl          | \n",
       "| X18 | v-model                  | \n",
       "| X19 | aufbau mysql-datenbank   | \n",
       "| X20 | javacsript               | \n",
       "\n",
       "\n"
      ],
      "text/plain": [
       "    [,1]                    \n",
       "X1  labview programmi       \n",
       "X2  visual basic programmier\n",
       "X3  entwickl  c             \n",
       "X4  java-programmier        \n",
       "X5  des                     \n",
       "X6  ilmplementier           \n",
       "X7  javaentwickl            \n",
       "X8  test-driv develop       \n",
       "X9  ms-access               \n",
       "X10 mysql                   \n",
       "X11 abap-develop            \n",
       "X12 sap-crm                 \n",
       "X13 datawareh               \n",
       "X14 design                  \n",
       "X15 anali                   \n",
       "X16 programmi  c++          \n",
       "X17 programmi  perl         \n",
       "X18 v-model                 \n",
       "X19 aufbau mysql-datenbank  \n",
       "X20 javacsript              "
      ]
     },
     "metadata": {},
     "output_type": "display_data"
    }
   ],
   "source": [
    "kand_data"
   ]
  },
  {
   "cell_type": "code",
   "execution_count": 32,
   "metadata": {
    "collapsed": false
   },
   "outputs": [],
   "source": [
    "rownames(anf_data)<- rownames(Anforderungen)\n",
    "colnames(anf_data) <- \"Skill\"\n",
    "rownames(kand_data)<- rownames(Kandidat)\n",
    "colnames(kand_data) <- \"Skill\""
   ]
  },
  {
   "cell_type": "code",
   "execution_count": 33,
   "metadata": {
    "collapsed": false
   },
   "outputs": [
    {
     "data": {
      "text/html": [
       "<table>\n",
       "<thead><tr><th scope=col>Skill</th></tr></thead>\n",
       "<tbody>\n",
       "\t<tr><td>labview programmi       </td></tr>\n",
       "\t<tr><td>visual basic programmier</td></tr>\n",
       "\t<tr><td>entwickl  c             </td></tr>\n",
       "\t<tr><td>java-programmier        </td></tr>\n",
       "\t<tr><td>des                     </td></tr>\n",
       "\t<tr><td>ilmplementier           </td></tr>\n",
       "\t<tr><td>javaentwickl            </td></tr>\n",
       "\t<tr><td>test-driv develop       </td></tr>\n",
       "\t<tr><td>ms-access               </td></tr>\n",
       "\t<tr><td>mysql                   </td></tr>\n",
       "\t<tr><td>abap-develop            </td></tr>\n",
       "\t<tr><td>sap-crm                 </td></tr>\n",
       "\t<tr><td>datawareh               </td></tr>\n",
       "\t<tr><td>design                  </td></tr>\n",
       "\t<tr><td>anali                   </td></tr>\n",
       "\t<tr><td>programmi  c++          </td></tr>\n",
       "\t<tr><td>programmi  perl         </td></tr>\n",
       "\t<tr><td>v-model                 </td></tr>\n",
       "\t<tr><td>aufbau mysql-datenbank  </td></tr>\n",
       "\t<tr><td>javacsript              </td></tr>\n",
       "</tbody>\n",
       "</table>\n"
      ],
      "text/latex": [
       "\\begin{tabular}{l}\n",
       " Skill\\\\\n",
       "\\hline\n",
       "\t labview programmi       \\\\\n",
       "\t visual basic programmier\\\\\n",
       "\t entwickl  c             \\\\\n",
       "\t java-programmier        \\\\\n",
       "\t des                     \\\\\n",
       "\t ilmplementier           \\\\\n",
       "\t javaentwickl            \\\\\n",
       "\t test-driv develop       \\\\\n",
       "\t ms-access               \\\\\n",
       "\t mysql                   \\\\\n",
       "\t abap-develop            \\\\\n",
       "\t sap-crm                 \\\\\n",
       "\t datawareh               \\\\\n",
       "\t design                  \\\\\n",
       "\t anali                   \\\\\n",
       "\t programmi  c++          \\\\\n",
       "\t programmi  perl         \\\\\n",
       "\t v-model                 \\\\\n",
       "\t aufbau mysql-datenbank  \\\\\n",
       "\t javacsript              \\\\\n",
       "\\end{tabular}\n"
      ],
      "text/markdown": [
       "\n",
       "Skill | \n",
       "|---|---|---|---|---|---|---|---|---|---|---|---|---|---|---|---|---|---|---|---|\n",
       "| labview programmi        | \n",
       "| visual basic programmier | \n",
       "| entwickl  c              | \n",
       "| java-programmier         | \n",
       "| des                      | \n",
       "| ilmplementier            | \n",
       "| javaentwickl             | \n",
       "| test-driv develop        | \n",
       "| ms-access                | \n",
       "| mysql                    | \n",
       "| abap-develop             | \n",
       "| sap-crm                  | \n",
       "| datawareh                | \n",
       "| design                   | \n",
       "| anali                    | \n",
       "| programmi  c++           | \n",
       "| programmi  perl          | \n",
       "| v-model                  | \n",
       "| aufbau mysql-datenbank   | \n",
       "| javacsript               | \n",
       "\n",
       "\n"
      ],
      "text/plain": [
       "      Skill                   \n",
       " [1,] labview programmi       \n",
       " [2,] visual basic programmier\n",
       " [3,] entwickl  c             \n",
       " [4,] java-programmier        \n",
       " [5,] des                     \n",
       " [6,] ilmplementier           \n",
       " [7,] javaentwickl            \n",
       " [8,] test-driv develop       \n",
       " [9,] ms-access               \n",
       "[10,] mysql                   \n",
       "[11,] abap-develop            \n",
       "[12,] sap-crm                 \n",
       "[13,] datawareh               \n",
       "[14,] design                  \n",
       "[15,] anali                   \n",
       "[16,] programmi  c++          \n",
       "[17,] programmi  perl         \n",
       "[18,] v-model                 \n",
       "[19,] aufbau mysql-datenbank  \n",
       "[20,] javacsript              "
      ]
     },
     "metadata": {},
     "output_type": "display_data"
    }
   ],
   "source": [
    "kand_data"
   ]
  },
  {
   "cell_type": "markdown",
   "metadata": {},
   "source": [
    "Die verarbeiteten Anforderungen werden mit den Originaldaten gejoint"
   ]
  },
  {
   "cell_type": "code",
   "execution_count": 35,
   "metadata": {
    "collapsed": false
   },
   "outputs": [],
   "source": [
    "Anforderungen$Skill <- anf_data"
   ]
  },
  {
   "cell_type": "code",
   "execution_count": 36,
   "metadata": {
    "collapsed": false
   },
   "outputs": [
    {
     "data": {
      "text/html": [
       "<table>\n",
       "<thead><tr><th></th><th scope=col>Skill</th><th scope=col>Kategorie</th></tr></thead>\n",
       "<tbody>\n",
       "\t<tr><th scope=row>23</th><td>abap                </td><td>Programmiersprachen </td></tr>\n",
       "\t<tr><th scope=row>26</th><td>ms sql serv         </td><td>Datenbanken         </td></tr>\n",
       "\t<tr><th scope=row>29</th><td>postgresql          </td><td>Datenbanken         </td></tr>\n",
       "\t<tr><th scope=row>28</th><td>ms access           </td><td>Datenbanken         </td></tr>\n",
       "\t<tr><th scope=row>35</th><td>sap crm             </td><td>Business IT         </td></tr>\n",
       "\t<tr><th scope=row>37</th><td>modulbetreu         </td><td>Business IT         </td></tr>\n",
       "\t<tr><th scope=row>5</th><td>scrum               </td><td>Entwicklungsmethoden</td></tr>\n",
       "\t<tr><th scope=row>3</th><td>spiralmodel         </td><td>Entwicklungsmethoden</td></tr>\n",
       "\t<tr><th scope=row>24</th><td>vhdl                </td><td>Programmiersprachen </td></tr>\n",
       "\t<tr><th scope=row>30</th><td>sql                 </td><td>Datenbanken         </td></tr>\n",
       "</tbody>\n",
       "</table>\n"
      ],
      "text/latex": [
       "\\begin{tabular}{r|ll}\n",
       "  & Skill & Kategorie\\\\\n",
       "\\hline\n",
       "\t23 & abap                 & Programmiersprachen \\\\\n",
       "\t26 & ms sql serv          & Datenbanken         \\\\\n",
       "\t29 & postgresql           & Datenbanken         \\\\\n",
       "\t28 & ms access            & Datenbanken         \\\\\n",
       "\t35 & sap crm              & Business IT         \\\\\n",
       "\t37 & modulbetreu          & Business IT         \\\\\n",
       "\t5 & scrum                & Entwicklungsmethoden\\\\\n",
       "\t3 & spiralmodel          & Entwicklungsmethoden\\\\\n",
       "\t24 & vhdl                 & Programmiersprachen \\\\\n",
       "\t30 & sql                  & Datenbanken         \\\\\n",
       "\\end{tabular}\n"
      ],
      "text/markdown": [
       "\n",
       "| <!--/--> | Skill | Kategorie | \n",
       "|---|---|---|---|---|---|---|---|---|---|\n",
       "| 23 | abap                 | Programmiersprachen  | \n",
       "| 26 | ms sql serv          | Datenbanken          | \n",
       "| 29 | postgresql           | Datenbanken          | \n",
       "| 28 | ms access            | Datenbanken          | \n",
       "| 35 | sap crm              | Business IT          | \n",
       "| 37 | modulbetreu          | Business IT          | \n",
       "| 5 | scrum                | Entwicklungsmethoden | \n",
       "| 3 | spiralmodel          | Entwicklungsmethoden | \n",
       "| 24 | vhdl                 | Programmiersprachen  | \n",
       "| 30 | sql                  | Datenbanken          | \n",
       "\n",
       "\n"
      ],
      "text/plain": [
       "   Skill       Kategorie           \n",
       "23 abap        Programmiersprachen \n",
       "26 ms sql serv Datenbanken         \n",
       "29 postgresql  Datenbanken         \n",
       "28 ms access   Datenbanken         \n",
       "35 sap crm     Business IT         \n",
       "37 modulbetreu Business IT         \n",
       "5  scrum       Entwicklungsmethoden\n",
       "3  spiralmodel Entwicklungsmethoden\n",
       "24 vhdl        Programmiersprachen \n",
       "30 sql         Datenbanken         "
      ]
     },
     "metadata": {},
     "output_type": "display_data"
    }
   ],
   "source": [
    "Anforderungen"
   ]
  },
  {
   "cell_type": "code",
   "execution_count": 52,
   "metadata": {
    "collapsed": false
   },
   "outputs": [],
   "source": [
    "Kandidat <- kand_data"
   ]
  },
  {
   "cell_type": "markdown",
   "metadata": {},
   "source": [
    "## Matching"
   ]
  },
  {
   "cell_type": "markdown",
   "metadata": {},
   "source": [
    "### Berechnung der String Distances"
   ]
  },
  {
   "cell_type": "markdown",
   "metadata": {},
   "source": [
    "Um festzustellen, wie ähnlich sich Kenntnisse und Anforderungen sind, werden sie kreuzweise verglichen. Also Distanzmaß wurde \"Jaro-Winkler\" gewählt. Je geringer der Wert, desto ähnlicher sind sich die beiden Strings."
   ]
  },
  {
   "cell_type": "code",
   "execution_count": 53,
   "metadata": {
    "collapsed": false
   },
   "outputs": [],
   "source": [
    "similarity_matrix <- data.frame(stringdistmatrix(Anforderungen$Skill,\n",
    "                                                 Kandidat,\n",
    "                                                 method = c(\"jw\"),\n",
    "                                                 p=0.25,\n",
    "                                                 q=2,\n",
    "                                                 useNames=\"strings\",\n",
    "                                                useBytes = TRUE))"
   ]
  },
  {
   "cell_type": "markdown",
   "metadata": {},
   "source": [
    "Die Ähnlichkeitsmatrix:"
   ]
  },
  {
   "cell_type": "code",
   "execution_count": 54,
   "metadata": {
    "collapsed": false
   },
   "outputs": [
    {
     "data": {
      "text/html": [
       "<table>\n",
       "<thead><tr><th></th><th scope=col>labview.programmi</th><th scope=col>visual.basic.programmier</th><th scope=col>entwickl..c</th><th scope=col>java.programmier</th><th scope=col>des</th><th scope=col>ilmplementier</th><th scope=col>javaentwickl</th><th scope=col>test.driv.develop</th><th scope=col>ms.access</th><th scope=col>mysql</th><th scope=col>abap.develop</th><th scope=col>sap.crm</th><th scope=col>datawareh</th><th scope=col>design</th><th scope=col>anali</th><th scope=col>programmi..c..</th><th scope=col>programmi..perl</th><th scope=col>v.model</th><th scope=col>aufbau.mysql.datenbank</th><th scope=col>javacsript</th></tr></thead>\n",
       "<tbody>\n",
       "\t<tr><th scope=row>abap</th><td>0.3578431 </td><td>0.2777778 </td><td>1.0000000 </td><td>0.3541667 </td><td>1.0000000 </td><td>0.5576923 </td><td>0.4444444 </td><td>1.0000000 </td><td>0.54629630</td><td>1.0000000 </td><td>0.0000000 </td><td>0.40476190</td><td>0.4259259 </td><td>1.0000000 </td><td>0.2750000 </td><td>0.6190476 </td><td>0.6222222 </td><td>1.0000000 </td><td>0.2784091 </td><td>0.4333333 </td></tr>\n",
       "\t<tr><th scope=row>ms sql serv</th><td>0.5504456 </td><td>0.5239899 </td><td>0.5454545 </td><td>0.7310606 </td><td>0.5252525 </td><td>0.5262238 </td><td>0.6085859 </td><td>0.5837790 </td><td>0.19831650</td><td>0.2090909 </td><td>0.6590909 </td><td>0.51082251</td><td>0.6986532 </td><td>0.5808081 </td><td>0.5696970 </td><td>0.6709957 </td><td>0.6232323 </td><td>0.5440115 </td><td>0.4772727 </td><td>0.5393939 </td></tr>\n",
       "\t<tr><th scope=row>postgresql</th><td>0.6189542 </td><td>0.5611111 </td><td>0.5393939 </td><td>0.5750000 </td><td>0.5222222 </td><td>0.6008547 </td><td>0.5944444 </td><td>0.5352941 </td><td>0.45555556</td><td>0.5666667 </td><td>0.4833333 </td><td>0.53492063</td><td>0.4555556 </td><td>0.4888889 </td><td>1.0000000 </td><td>0.4223214 </td><td>0.3125000 </td><td>0.4238095 </td><td>0.5977273 </td><td>0.5333333 </td></tr>\n",
       "\t<tr><th scope=row>ms access</th><td>0.6633987 </td><td>0.5453704 </td><td>0.5993266 </td><td>0.6087963 </td><td>0.5185185 </td><td>0.5413105 </td><td>0.5833333 </td><td>0.6633987 </td><td>0.03703704</td><td>0.3444444 </td><td>0.5370370 </td><td>0.41269841</td><td>0.5185185 </td><td>0.5740741 </td><td>0.5629630 </td><td>0.5952381 </td><td>0.6000000 </td><td>0.4973545 </td><td>0.5390572 </td><td>0.6222222 </td></tr>\n",
       "\t<tr><th scope=row>sap crm</th><td>0.4810924 </td><td>0.3809524 </td><td>0.5887446 </td><td>0.3928571 </td><td>0.5079365 </td><td>0.6868132 </td><td>0.5158730 </td><td>0.5760971 </td><td>0.41269841</td><td>0.5523810 </td><td>0.5158730 </td><td>0.02380952</td><td>0.4973545 </td><td>0.5634921 </td><td>0.5523810 </td><td>0.4761905 </td><td>0.4841270 </td><td>1.0000000 </td><td>0.5822511 </td><td>0.4238095 </td></tr>\n",
       "\t<tr><th scope=row>modulbetreu</th><td>0.4670232 </td><td>0.4898990 </td><td>0.6060606 </td><td>0.6243687 </td><td>0.5252525 </td><td>0.4698912 </td><td>0.5505051 </td><td>0.4837790 </td><td>0.39898990</td><td>0.3545455 </td><td>0.5095960 </td><td>0.58874459</td><td>0.5757576 </td><td>0.5808081 </td><td>0.5696970 </td><td>0.6709957 </td><td>0.6232323 </td><td>0.3437229 </td><td>0.4913420 </td><td>0.7060606 </td></tr>\n",
       "\t<tr><th scope=row>scrum</th><td>0.5803922 </td><td>0.5361111 </td><td>0.5696970 </td><td>0.4916667 </td><td>1.0000000 </td><td>0.5743590 </td><td>1.0000000 </td><td>0.4941176 </td><td>0.45925926</td><td>1.0000000 </td><td>1.0000000 </td><td>0.32857143</td><td>1.0000000 </td><td>0.5444444 </td><td>1.0000000 </td><td>0.4857143 </td><td>0.4888889 </td><td>0.5523810 </td><td>0.5878788 </td><td>0.4666667 </td></tr>\n",
       "\t<tr><th scope=row>spiralmodel</th><td>0.4839572 </td><td>0.5404040 </td><td>0.5454545 </td><td>0.4987374 </td><td>0.5252525 </td><td>0.5202797 </td><td>0.4924242 </td><td>0.4227570 </td><td>0.46464646</td><td>0.4727273 </td><td>0.4848485 </td><td>0.28279221</td><td>0.5757576 </td><td>0.4949495 </td><td>0.5424242 </td><td>0.4253247 </td><td>0.3089646 </td><td>0.4437229 </td><td>0.5050505 </td><td>0.7060606 </td></tr>\n",
       "\t<tr><th scope=row>vhdl</th><td>0.6274510 </td><td>0.3541667 </td><td>0.5530303 </td><td>0.5625000 </td><td>1.0000000 </td><td>0.5576923 </td><td>0.5555556 </td><td>0.5637255 </td><td>1.00000000</td><td>0.5166667 </td><td>0.5555556 </td><td>1.00000000</td><td>0.5462963 </td><td>0.5277778 </td><td>0.5166667 </td><td>1.0000000 </td><td>1.0000000 </td><td>0.3035714 </td><td>0.5681818 </td><td>0.5500000 </td></tr>\n",
       "\t<tr><th scope=row>sql</th><td>0.5359477 </td><td>0.4166667 </td><td>1.0000000 </td><td>1.0000000 </td><td>1.0000000 </td><td>0.5299145 </td><td>1.0000000 </td><td>0.5359477 </td><td>0.51851852</td><td>1.0000000 </td><td>1.0000000 </td><td>0.38095238</td><td>1.0000000 </td><td>0.5000000 </td><td>0.4888889 </td><td>1.0000000 </td><td>1.0000000 </td><td>1.0000000 </td><td>0.2878788 </td><td>1.0000000 </td></tr>\n",
       "</tbody>\n",
       "</table>\n"
      ],
      "text/latex": [
       "\\begin{tabular}{r|llllllllllllllllllll}\n",
       "  & labview.programmi & visual.basic.programmier & entwickl..c & java.programmier & des & ilmplementier & javaentwickl & test.driv.develop & ms.access & mysql & abap.develop & sap.crm & datawareh & design & anali & programmi..c.. & programmi..perl & v.model & aufbau.mysql.datenbank & javacsript\\\\\n",
       "\\hline\n",
       "\tabap & 0.3578431  & 0.2777778  & 1.0000000  & 0.3541667  & 1.0000000  & 0.5576923  & 0.4444444  & 1.0000000  & 0.54629630 & 1.0000000  & 0.0000000  & 0.40476190 & 0.4259259  & 1.0000000  & 0.2750000  & 0.6190476  & 0.6222222  & 1.0000000  & 0.2784091  & 0.4333333 \\\\\n",
       "\tms sql serv & 0.5504456  & 0.5239899  & 0.5454545  & 0.7310606  & 0.5252525  & 0.5262238  & 0.6085859  & 0.5837790  & 0.19831650 & 0.2090909  & 0.6590909  & 0.51082251 & 0.6986532  & 0.5808081  & 0.5696970  & 0.6709957  & 0.6232323  & 0.5440115  & 0.4772727  & 0.5393939 \\\\\n",
       "\tpostgresql & 0.6189542  & 0.5611111  & 0.5393939  & 0.5750000  & 0.5222222  & 0.6008547  & 0.5944444  & 0.5352941  & 0.45555556 & 0.5666667  & 0.4833333  & 0.53492063 & 0.4555556  & 0.4888889  & 1.0000000  & 0.4223214  & 0.3125000  & 0.4238095  & 0.5977273  & 0.5333333 \\\\\n",
       "\tms access & 0.6633987  & 0.5453704  & 0.5993266  & 0.6087963  & 0.5185185  & 0.5413105  & 0.5833333  & 0.6633987  & 0.03703704 & 0.3444444  & 0.5370370  & 0.41269841 & 0.5185185  & 0.5740741  & 0.5629630  & 0.5952381  & 0.6000000  & 0.4973545  & 0.5390572  & 0.6222222 \\\\\n",
       "\tsap crm & 0.4810924  & 0.3809524  & 0.5887446  & 0.3928571  & 0.5079365  & 0.6868132  & 0.5158730  & 0.5760971  & 0.41269841 & 0.5523810  & 0.5158730  & 0.02380952 & 0.4973545  & 0.5634921  & 0.5523810  & 0.4761905  & 0.4841270  & 1.0000000  & 0.5822511  & 0.4238095 \\\\\n",
       "\tmodulbetreu & 0.4670232  & 0.4898990  & 0.6060606  & 0.6243687  & 0.5252525  & 0.4698912  & 0.5505051  & 0.4837790  & 0.39898990 & 0.3545455  & 0.5095960  & 0.58874459 & 0.5757576  & 0.5808081  & 0.5696970  & 0.6709957  & 0.6232323  & 0.3437229  & 0.4913420  & 0.7060606 \\\\\n",
       "\tscrum & 0.5803922  & 0.5361111  & 0.5696970  & 0.4916667  & 1.0000000  & 0.5743590  & 1.0000000  & 0.4941176  & 0.45925926 & 1.0000000  & 1.0000000  & 0.32857143 & 1.0000000  & 0.5444444  & 1.0000000  & 0.4857143  & 0.4888889  & 0.5523810  & 0.5878788  & 0.4666667 \\\\\n",
       "\tspiralmodel & 0.4839572  & 0.5404040  & 0.5454545  & 0.4987374  & 0.5252525  & 0.5202797  & 0.4924242  & 0.4227570  & 0.46464646 & 0.4727273  & 0.4848485  & 0.28279221 & 0.5757576  & 0.4949495  & 0.5424242  & 0.4253247  & 0.3089646  & 0.4437229  & 0.5050505  & 0.7060606 \\\\\n",
       "\tvhdl & 0.6274510  & 0.3541667  & 0.5530303  & 0.5625000  & 1.0000000  & 0.5576923  & 0.5555556  & 0.5637255  & 1.00000000 & 0.5166667  & 0.5555556  & 1.00000000 & 0.5462963  & 0.5277778  & 0.5166667  & 1.0000000  & 1.0000000  & 0.3035714  & 0.5681818  & 0.5500000 \\\\\n",
       "\tsql & 0.5359477  & 0.4166667  & 1.0000000  & 1.0000000  & 1.0000000  & 0.5299145  & 1.0000000  & 0.5359477  & 0.51851852 & 1.0000000  & 1.0000000  & 0.38095238 & 1.0000000  & 0.5000000  & 0.4888889  & 1.0000000  & 1.0000000  & 1.0000000  & 0.2878788  & 1.0000000 \\\\\n",
       "\\end{tabular}\n"
      ],
      "text/markdown": [
       "\n",
       "| <!--/--> | labview.programmi | visual.basic.programmier | entwickl..c | java.programmier | des | ilmplementier | javaentwickl | test.driv.develop | ms.access | mysql | abap.develop | sap.crm | datawareh | design | anali | programmi..c.. | programmi..perl | v.model | aufbau.mysql.datenbank | javacsript | \n",
       "|---|---|---|---|---|---|---|---|---|---|\n",
       "| abap | 0.3578431  | 0.2777778  | 1.0000000  | 0.3541667  | 1.0000000  | 0.5576923  | 0.4444444  | 1.0000000  | 0.54629630 | 1.0000000  | 0.0000000  | 0.40476190 | 0.4259259  | 1.0000000  | 0.2750000  | 0.6190476  | 0.6222222  | 1.0000000  | 0.2784091  | 0.4333333  | \n",
       "| ms sql serv | 0.5504456  | 0.5239899  | 0.5454545  | 0.7310606  | 0.5252525  | 0.5262238  | 0.6085859  | 0.5837790  | 0.19831650 | 0.2090909  | 0.6590909  | 0.51082251 | 0.6986532  | 0.5808081  | 0.5696970  | 0.6709957  | 0.6232323  | 0.5440115  | 0.4772727  | 0.5393939  | \n",
       "| postgresql | 0.6189542  | 0.5611111  | 0.5393939  | 0.5750000  | 0.5222222  | 0.6008547  | 0.5944444  | 0.5352941  | 0.45555556 | 0.5666667  | 0.4833333  | 0.53492063 | 0.4555556  | 0.4888889  | 1.0000000  | 0.4223214  | 0.3125000  | 0.4238095  | 0.5977273  | 0.5333333  | \n",
       "| ms access | 0.6633987  | 0.5453704  | 0.5993266  | 0.6087963  | 0.5185185  | 0.5413105  | 0.5833333  | 0.6633987  | 0.03703704 | 0.3444444  | 0.5370370  | 0.41269841 | 0.5185185  | 0.5740741  | 0.5629630  | 0.5952381  | 0.6000000  | 0.4973545  | 0.5390572  | 0.6222222  | \n",
       "| sap crm | 0.4810924  | 0.3809524  | 0.5887446  | 0.3928571  | 0.5079365  | 0.6868132  | 0.5158730  | 0.5760971  | 0.41269841 | 0.5523810  | 0.5158730  | 0.02380952 | 0.4973545  | 0.5634921  | 0.5523810  | 0.4761905  | 0.4841270  | 1.0000000  | 0.5822511  | 0.4238095  | \n",
       "| modulbetreu | 0.4670232  | 0.4898990  | 0.6060606  | 0.6243687  | 0.5252525  | 0.4698912  | 0.5505051  | 0.4837790  | 0.39898990 | 0.3545455  | 0.5095960  | 0.58874459 | 0.5757576  | 0.5808081  | 0.5696970  | 0.6709957  | 0.6232323  | 0.3437229  | 0.4913420  | 0.7060606  | \n",
       "| scrum | 0.5803922  | 0.5361111  | 0.5696970  | 0.4916667  | 1.0000000  | 0.5743590  | 1.0000000  | 0.4941176  | 0.45925926 | 1.0000000  | 1.0000000  | 0.32857143 | 1.0000000  | 0.5444444  | 1.0000000  | 0.4857143  | 0.4888889  | 0.5523810  | 0.5878788  | 0.4666667  | \n",
       "| spiralmodel | 0.4839572  | 0.5404040  | 0.5454545  | 0.4987374  | 0.5252525  | 0.5202797  | 0.4924242  | 0.4227570  | 0.46464646 | 0.4727273  | 0.4848485  | 0.28279221 | 0.5757576  | 0.4949495  | 0.5424242  | 0.4253247  | 0.3089646  | 0.4437229  | 0.5050505  | 0.7060606  | \n",
       "| vhdl | 0.6274510  | 0.3541667  | 0.5530303  | 0.5625000  | 1.0000000  | 0.5576923  | 0.5555556  | 0.5637255  | 1.00000000 | 0.5166667  | 0.5555556  | 1.00000000 | 0.5462963  | 0.5277778  | 0.5166667  | 1.0000000  | 1.0000000  | 0.3035714  | 0.5681818  | 0.5500000  | \n",
       "| sql | 0.5359477  | 0.4166667  | 1.0000000  | 1.0000000  | 1.0000000  | 0.5299145  | 1.0000000  | 0.5359477  | 0.51851852 | 1.0000000  | 1.0000000  | 0.38095238 | 1.0000000  | 0.5000000  | 0.4888889  | 1.0000000  | 1.0000000  | 1.0000000  | 0.2878788  | 1.0000000  | \n",
       "\n",
       "\n"
      ],
      "text/plain": [
       "            labview.programmi visual.basic.programmier entwickl..c\n",
       "abap        0.3578431         0.2777778                1.0000000  \n",
       "ms sql serv 0.5504456         0.5239899                0.5454545  \n",
       "postgresql  0.6189542         0.5611111                0.5393939  \n",
       "ms access   0.6633987         0.5453704                0.5993266  \n",
       "sap crm     0.4810924         0.3809524                0.5887446  \n",
       "modulbetreu 0.4670232         0.4898990                0.6060606  \n",
       "scrum       0.5803922         0.5361111                0.5696970  \n",
       "spiralmodel 0.4839572         0.5404040                0.5454545  \n",
       "vhdl        0.6274510         0.3541667                0.5530303  \n",
       "sql         0.5359477         0.4166667                1.0000000  \n",
       "            java.programmier des       ilmplementier javaentwickl\n",
       "abap        0.3541667        1.0000000 0.5576923     0.4444444   \n",
       "ms sql serv 0.7310606        0.5252525 0.5262238     0.6085859   \n",
       "postgresql  0.5750000        0.5222222 0.6008547     0.5944444   \n",
       "ms access   0.6087963        0.5185185 0.5413105     0.5833333   \n",
       "sap crm     0.3928571        0.5079365 0.6868132     0.5158730   \n",
       "modulbetreu 0.6243687        0.5252525 0.4698912     0.5505051   \n",
       "scrum       0.4916667        1.0000000 0.5743590     1.0000000   \n",
       "spiralmodel 0.4987374        0.5252525 0.5202797     0.4924242   \n",
       "vhdl        0.5625000        1.0000000 0.5576923     0.5555556   \n",
       "sql         1.0000000        1.0000000 0.5299145     1.0000000   \n",
       "            test.driv.develop ms.access  mysql     abap.develop sap.crm   \n",
       "abap        1.0000000         0.54629630 1.0000000 0.0000000    0.40476190\n",
       "ms sql serv 0.5837790         0.19831650 0.2090909 0.6590909    0.51082251\n",
       "postgresql  0.5352941         0.45555556 0.5666667 0.4833333    0.53492063\n",
       "ms access   0.6633987         0.03703704 0.3444444 0.5370370    0.41269841\n",
       "sap crm     0.5760971         0.41269841 0.5523810 0.5158730    0.02380952\n",
       "modulbetreu 0.4837790         0.39898990 0.3545455 0.5095960    0.58874459\n",
       "scrum       0.4941176         0.45925926 1.0000000 1.0000000    0.32857143\n",
       "spiralmodel 0.4227570         0.46464646 0.4727273 0.4848485    0.28279221\n",
       "vhdl        0.5637255         1.00000000 0.5166667 0.5555556    1.00000000\n",
       "sql         0.5359477         0.51851852 1.0000000 1.0000000    0.38095238\n",
       "            datawareh design    anali     programmi..c.. programmi..perl\n",
       "abap        0.4259259 1.0000000 0.2750000 0.6190476      0.6222222      \n",
       "ms sql serv 0.6986532 0.5808081 0.5696970 0.6709957      0.6232323      \n",
       "postgresql  0.4555556 0.4888889 1.0000000 0.4223214      0.3125000      \n",
       "ms access   0.5185185 0.5740741 0.5629630 0.5952381      0.6000000      \n",
       "sap crm     0.4973545 0.5634921 0.5523810 0.4761905      0.4841270      \n",
       "modulbetreu 0.5757576 0.5808081 0.5696970 0.6709957      0.6232323      \n",
       "scrum       1.0000000 0.5444444 1.0000000 0.4857143      0.4888889      \n",
       "spiralmodel 0.5757576 0.4949495 0.5424242 0.4253247      0.3089646      \n",
       "vhdl        0.5462963 0.5277778 0.5166667 1.0000000      1.0000000      \n",
       "sql         1.0000000 0.5000000 0.4888889 1.0000000      1.0000000      \n",
       "            v.model   aufbau.mysql.datenbank javacsript\n",
       "abap        1.0000000 0.2784091              0.4333333 \n",
       "ms sql serv 0.5440115 0.4772727              0.5393939 \n",
       "postgresql  0.4238095 0.5977273              0.5333333 \n",
       "ms access   0.4973545 0.5390572              0.6222222 \n",
       "sap crm     1.0000000 0.5822511              0.4238095 \n",
       "modulbetreu 0.3437229 0.4913420              0.7060606 \n",
       "scrum       0.5523810 0.5878788              0.4666667 \n",
       "spiralmodel 0.4437229 0.5050505              0.7060606 \n",
       "vhdl        0.3035714 0.5681818              0.5500000 \n",
       "sql         1.0000000 0.2878788              1.0000000 "
      ]
     },
     "metadata": {},
     "output_type": "display_data"
    }
   ],
   "source": [
    "similarity_matrix"
   ]
  },
  {
   "cell_type": "markdown",
   "metadata": {},
   "source": [
    "### Finde die Paare mit der größten Ähnlichkeit pro Zeile"
   ]
  },
  {
   "cell_type": "code",
   "execution_count": 55,
   "metadata": {
    "collapsed": false
   },
   "outputs": [
    {
     "data": {
      "text/html": [
       "<table>\n",
       "<tbody>\n",
       "\t<tr><td><span style=white-space:pre-wrap>abap &amp; abap.develop         </span></td><td><span style=white-space:pre-wrap>0                 </span>              </td></tr>\n",
       "\t<tr><td><span style=white-space:pre-wrap>ms sql serv &amp; ms.access     </span></td><td>0.198316498316498                                                       </td></tr>\n",
       "\t<tr><td>postgresql &amp; programmi..perl                          </td><td><span style=white-space:pre-wrap>0.3125            </span></td></tr>\n",
       "\t<tr><td><span style=white-space:pre-wrap>ms access &amp; ms.access       </span></td><td>0.0370370370370371                                                      </td></tr>\n",
       "\t<tr><td><span style=white-space:pre-wrap>sap crm &amp; sap.crm           </span></td><td>0.0238095238095238                                                      </td></tr>\n",
       "\t<tr><td><span style=white-space:pre-wrap>modulbetreu &amp; v.model       </span></td><td>0.343722943722944                                                       </td></tr>\n",
       "\t<tr><td><span style=white-space:pre-wrap>scrum &amp; sap.crm             </span></td><td>0.328571428571429                                                       </td></tr>\n",
       "\t<tr><td><span style=white-space:pre-wrap>spiralmodel &amp; sap.crm       </span></td><td>0.282792207792208                                                       </td></tr>\n",
       "\t<tr><td><span style=white-space:pre-wrap>vhdl &amp; v.model              </span></td><td>0.303571428571429                                                       </td></tr>\n",
       "\t<tr><td>sql &amp; aufbau.mysql.datenbank</td><td>0.287878787878788               </td></tr>\n",
       "</tbody>\n",
       "</table>\n"
      ],
      "text/latex": [
       "\\begin{tabular}{ll}\n",
       "\t abap \\& abap.develop          & 0                             \\\\\n",
       "\t ms sql serv \\& ms.access      & 0.198316498316498             \\\\\n",
       "\t postgresql \\& programmi..perl & 0.3125                        \\\\\n",
       "\t ms access \\& ms.access        & 0.0370370370370371            \\\\\n",
       "\t sap crm \\& sap.crm            & 0.0238095238095238            \\\\\n",
       "\t modulbetreu \\& v.model        & 0.343722943722944             \\\\\n",
       "\t scrum \\& sap.crm              & 0.328571428571429             \\\\\n",
       "\t spiralmodel \\& sap.crm        & 0.282792207792208             \\\\\n",
       "\t vhdl \\& v.model               & 0.303571428571429             \\\\\n",
       "\t sql \\& aufbau.mysql.datenbank & 0.287878787878788             \\\\\n",
       "\\end{tabular}\n"
      ],
      "text/markdown": [
       "\n",
       "| abap & abap.develop          | 0                            | \n",
       "| ms sql serv & ms.access      | 0.198316498316498            | \n",
       "| postgresql & programmi..perl | 0.3125                       | \n",
       "| ms access & ms.access        | 0.0370370370370371           | \n",
       "| sap crm & sap.crm            | 0.0238095238095238           | \n",
       "| modulbetreu & v.model        | 0.343722943722944            | \n",
       "| scrum & sap.crm              | 0.328571428571429            | \n",
       "| spiralmodel & sap.crm        | 0.282792207792208            | \n",
       "| vhdl & v.model               | 0.303571428571429            | \n",
       "| sql & aufbau.mysql.datenbank | 0.287878787878788            | \n",
       "\n",
       "\n"
      ],
      "text/plain": [
       "      [,1]                         [,2]              \n",
       " [1,] abap & abap.develop          0                 \n",
       " [2,] ms sql serv & ms.access      0.198316498316498 \n",
       " [3,] postgresql & programmi..perl 0.3125            \n",
       " [4,] ms access & ms.access        0.0370370370370371\n",
       " [5,] sap crm & sap.crm            0.0238095238095238\n",
       " [6,] modulbetreu & v.model        0.343722943722944 \n",
       " [7,] scrum & sap.crm              0.328571428571429 \n",
       " [8,] spiralmodel & sap.crm        0.282792207792208 \n",
       " [9,] vhdl & v.model               0.303571428571429 \n",
       "[10,] sql & aufbau.mysql.datenbank 0.287878787878788 "
      ]
     },
     "metadata": {},
     "output_type": "display_data"
    }
   ],
   "source": [
    "result <- t(sapply(seq(nrow(similarity_matrix)), function(i) {\n",
    "  most_similar <- which.min(similarity_matrix[i,])\n",
    "  c(paste(rownames(similarity_matrix)[i], colnames(similarity_matrix)[most_similar], sep=' & '),\n",
    "    similarity_matrix[i,most_similar])\n",
    "}))\n",
    "\n",
    "result"
   ]
  },
  {
   "cell_type": "code",
   "execution_count": 56,
   "metadata": {
    "collapsed": false
   },
   "outputs": [
    {
     "data": {
      "text/html": [
       "'character'"
      ],
      "text/latex": [
       "'character'"
      ],
      "text/markdown": [
       "'character'"
      ],
      "text/plain": [
       "[1] \"character\""
      ]
     },
     "metadata": {},
     "output_type": "display_data"
    }
   ],
   "source": [
    "typeof(result[\"Distanz\"])"
   ]
  },
  {
   "cell_type": "code",
   "execution_count": 57,
   "metadata": {
    "collapsed": true
   },
   "outputs": [],
   "source": [
    "colnames(result) <- c(\"Skillpaar\",\"Distanz\")"
   ]
  },
  {
   "cell_type": "code",
   "execution_count": 58,
   "metadata": {
    "collapsed": false
   },
   "outputs": [],
   "source": [
    "result <- as.data.frame(result)\n",
    "result$Distanz <- as.numeric(as.character(result$Distanz))\n",
    "rownames(result) <- rownames(Anforderungen)"
   ]
  },
  {
   "cell_type": "code",
   "execution_count": 59,
   "metadata": {
    "collapsed": false
   },
   "outputs": [
    {
     "data": {
      "text/html": [
       "<table>\n",
       "<thead><tr><th></th><th scope=col>Skillpaar</th><th scope=col>Distanz</th></tr></thead>\n",
       "<tbody>\n",
       "\t<tr><th scope=row>23</th><td><span style=white-space:pre-wrap>abap &amp; abap.develop         </span></td><td>0.00000000                                                              </td></tr>\n",
       "\t<tr><th scope=row>26</th><td><span style=white-space:pre-wrap>ms sql serv &amp; ms.access     </span></td><td>0.19831650                                                              </td></tr>\n",
       "\t<tr><th scope=row>29</th><td>postgresql &amp; programmi..perl</td><td>0.31250000                      </td></tr>\n",
       "\t<tr><th scope=row>28</th><td><span style=white-space:pre-wrap>ms access &amp; ms.access       </span></td><td>0.03703704                                                              </td></tr>\n",
       "\t<tr><th scope=row>35</th><td><span style=white-space:pre-wrap>sap crm &amp; sap.crm           </span></td><td>0.02380952                                                              </td></tr>\n",
       "\t<tr><th scope=row>37</th><td><span style=white-space:pre-wrap>modulbetreu &amp; v.model       </span></td><td>0.34372294                                                              </td></tr>\n",
       "\t<tr><th scope=row>5</th><td><span style=white-space:pre-wrap>scrum &amp; sap.crm             </span></td><td>0.32857143                                                              </td></tr>\n",
       "\t<tr><th scope=row>3</th><td><span style=white-space:pre-wrap>spiralmodel &amp; sap.crm       </span></td><td>0.28279221                                                              </td></tr>\n",
       "\t<tr><th scope=row>24</th><td><span style=white-space:pre-wrap>vhdl &amp; v.model              </span></td><td>0.30357143                                                              </td></tr>\n",
       "\t<tr><th scope=row>30</th><td>sql &amp; aufbau.mysql.datenbank</td><td>0.28787879                      </td></tr>\n",
       "</tbody>\n",
       "</table>\n"
      ],
      "text/latex": [
       "\\begin{tabular}{r|ll}\n",
       "  & Skillpaar & Distanz\\\\\n",
       "\\hline\n",
       "\t23 & abap \\& abap.develop          & 0.00000000                    \\\\\n",
       "\t26 & ms sql serv \\& ms.access      & 0.19831650                    \\\\\n",
       "\t29 & postgresql \\& programmi..perl & 0.31250000                    \\\\\n",
       "\t28 & ms access \\& ms.access        & 0.03703704                    \\\\\n",
       "\t35 & sap crm \\& sap.crm            & 0.02380952                    \\\\\n",
       "\t37 & modulbetreu \\& v.model        & 0.34372294                    \\\\\n",
       "\t5 & scrum \\& sap.crm              & 0.32857143                    \\\\\n",
       "\t3 & spiralmodel \\& sap.crm        & 0.28279221                    \\\\\n",
       "\t24 & vhdl \\& v.model               & 0.30357143                    \\\\\n",
       "\t30 & sql \\& aufbau.mysql.datenbank & 0.28787879                    \\\\\n",
       "\\end{tabular}\n"
      ],
      "text/markdown": [
       "\n",
       "| <!--/--> | Skillpaar | Distanz | \n",
       "|---|---|---|---|---|---|---|---|---|---|\n",
       "| 23 | abap & abap.develop          | 0.00000000                   | \n",
       "| 26 | ms sql serv & ms.access      | 0.19831650                   | \n",
       "| 29 | postgresql & programmi..perl | 0.31250000                   | \n",
       "| 28 | ms access & ms.access        | 0.03703704                   | \n",
       "| 35 | sap crm & sap.crm            | 0.02380952                   | \n",
       "| 37 | modulbetreu & v.model        | 0.34372294                   | \n",
       "| 5 | scrum & sap.crm              | 0.32857143                   | \n",
       "| 3 | spiralmodel & sap.crm        | 0.28279221                   | \n",
       "| 24 | vhdl & v.model               | 0.30357143                   | \n",
       "| 30 | sql & aufbau.mysql.datenbank | 0.28787879                   | \n",
       "\n",
       "\n"
      ],
      "text/plain": [
       "   Skillpaar                    Distanz   \n",
       "23 abap & abap.develop          0.00000000\n",
       "26 ms sql serv & ms.access      0.19831650\n",
       "29 postgresql & programmi..perl 0.31250000\n",
       "28 ms access & ms.access        0.03703704\n",
       "35 sap crm & sap.crm            0.02380952\n",
       "37 modulbetreu & v.model        0.34372294\n",
       "5  scrum & sap.crm              0.32857143\n",
       "3  spiralmodel & sap.crm        0.28279221\n",
       "24 vhdl & v.model               0.30357143\n",
       "30 sql & aufbau.mysql.datenbank 0.28787879"
      ]
     },
     "metadata": {},
     "output_type": "display_data"
    }
   ],
   "source": [
    "result"
   ]
  },
  {
   "cell_type": "markdown",
   "metadata": {},
   "source": [
    "### Zeige nur die Skills, die gematcht werden konnten"
   ]
  },
  {
   "cell_type": "markdown",
   "metadata": {},
   "source": [
    "Der Threshold wurde auf 0.25 maximale Jaro-Winkler Distanz gesetzt"
   ]
  },
  {
   "cell_type": "code",
   "execution_count": 101,
   "metadata": {
    "collapsed": false
   },
   "outputs": [
    {
     "data": {
      "text/html": [
       "<table>\n",
       "<thead><tr><th scope=col>Skillpaar</th><th scope=col>Distanz</th></tr></thead>\n",
       "<tbody>\n",
       "\t<tr><td><span style=white-space:pre-wrap>abap &amp; abap.develop    </span></td><td>0.00000000                                                         </td></tr>\n",
       "\t<tr><td>ms sql serv &amp; ms.access</td><td>0.19831650                 </td></tr>\n",
       "\t<tr><td><span style=white-space:pre-wrap>ms access &amp; ms.access  </span></td><td>0.03703704                                                         </td></tr>\n",
       "\t<tr><td><span style=white-space:pre-wrap>sap crm &amp; sap.crm      </span></td><td>0.02380952                                                         </td></tr>\n",
       "</tbody>\n",
       "</table>\n"
      ],
      "text/latex": [
       "\\begin{tabular}{r|ll}\n",
       " Skillpaar & Distanz\\\\\n",
       "\\hline\n",
       "\t abap \\& abap.develop     & 0.00000000               \\\\\n",
       "\t ms sql serv \\& ms.access & 0.19831650               \\\\\n",
       "\t ms access \\& ms.access   & 0.03703704               \\\\\n",
       "\t sap crm \\& sap.crm       & 0.02380952               \\\\\n",
       "\\end{tabular}\n"
      ],
      "text/markdown": [
       "\n",
       "Skillpaar | Distanz | \n",
       "|---|---|---|---|\n",
       "| abap & abap.develop     | 0.00000000              | \n",
       "| ms sql serv & ms.access | 0.19831650              | \n",
       "| ms access & ms.access   | 0.03703704              | \n",
       "| sap crm & sap.crm       | 0.02380952              | \n",
       "\n",
       "\n"
      ],
      "text/plain": [
       "  Skillpaar               Distanz   \n",
       "1 abap & abap.develop     0.00000000\n",
       "2 ms sql serv & ms.access 0.19831650\n",
       "3 ms access & ms.access   0.03703704\n",
       "4 sap crm & sap.crm       0.02380952"
      ]
     },
     "metadata": {},
     "output_type": "display_data"
    },
    {
     "name": "stdout",
     "output_type": "stream",
     "text": [
      "Anzahl der gematchten Skills: 4"
     ]
    }
   ],
   "source": [
    "filter(result, Distanz<=0.20)\n",
    "cat(\"Anzahl der gematchten Skills:\", nrow(filter(result, Distanz<=0.20)))"
   ]
  },
  {
   "cell_type": "markdown",
   "metadata": {},
   "source": [
    "\"Grenzwertige\" Matchings sollten manuell überprüft werden"
   ]
  },
  {
   "cell_type": "code",
   "execution_count": 102,
   "metadata": {
    "collapsed": false
   },
   "outputs": [
    {
     "data": {
      "text/html": [
       "<table>\n",
       "<thead><tr><th scope=col>Skillpaar</th><th scope=col>Distanz</th></tr></thead>\n",
       "<tbody>\n",
       "\t<tr><td><span style=white-space:pre-wrap>spiralmodel &amp; sap.crm       </span></td><td>0.2827922                                                               </td></tr>\n",
       "\t<tr><td>sql &amp; aufbau.mysql.datenbank</td><td>0.2878788                       </td></tr>\n",
       "</tbody>\n",
       "</table>\n"
      ],
      "text/latex": [
       "\\begin{tabular}{r|ll}\n",
       " Skillpaar & Distanz\\\\\n",
       "\\hline\n",
       "\t spiralmodel \\& sap.crm        & 0.2827922                     \\\\\n",
       "\t sql \\& aufbau.mysql.datenbank & 0.2878788                     \\\\\n",
       "\\end{tabular}\n"
      ],
      "text/markdown": [
       "\n",
       "Skillpaar | Distanz | \n",
       "|---|---|\n",
       "| spiralmodel & sap.crm        | 0.2827922                    | \n",
       "| sql & aufbau.mysql.datenbank | 0.2878788                    | \n",
       "\n",
       "\n"
      ],
      "text/plain": [
       "  Skillpaar                    Distanz  \n",
       "1 spiralmodel & sap.crm        0.2827922\n",
       "2 sql & aufbau.mysql.datenbank 0.2878788"
      ]
     },
     "metadata": {},
     "output_type": "display_data"
    },
    {
     "name": "stdout",
     "output_type": "stream",
     "text": [
      "Diese Skills sollten überprüft werden: 2"
     ]
    }
   ],
   "source": [
    "filter(result, Distanz > 0.20, Distanz < 0.30)\n",
    "cat(\"Diese Skills sollten überprüft werden:\", nrow(filter(result, Distanz > 0.20, Distanz < 0.30)))"
   ]
  },
  {
   "cell_type": "markdown",
   "metadata": {},
   "source": [
    "Visualisierung des Matchings als Heatmap - die hellen Kacheln zeigen niedrige Werte."
   ]
  },
  {
   "cell_type": "code",
   "execution_count": 62,
   "metadata": {
    "collapsed": false
   },
   "outputs": [
    {
     "data": {
      "image/png": "[encoded data removed]",
      "text/plain": [
       "plot without title"
      ]
     },
     "metadata": {},
     "output_type": "display_data"
    }
   ],
   "source": [
    "heatmap(as.matrix(similarity_matrix), Rowv=NA, Colv=NA, col=brewer.pal(9,\"Blues\"), margins =c(10,10))\n"
   ]
  },
  {
   "cell_type": "markdown",
   "metadata": {
    "collapsed": true
   },
   "source": [
    "# Verbesserungsmöglichkeiten\n",
    "* Evaluation der Ergebnisse durch Test-Daten\n",
    "* Verbesserung des Matchings durch Kombination von mehreren Ähnlichkeitsfunktionen oder Nutzung von Regeln\n",
    "* Integration von bestehender Ontologie & Lexikon oder Erstellung\n",
    "* Einsatz von Machine-Learning-Methoden, z.B. Naive Bayes oder KNN. Nur möglich, wenn Daten von Experten gelabelt werden um als Trainingsdaten genutzt werden zu können\n",
    "* Mehr Daten\n",
    "* ..."
   ]
  },
  {
   "cell_type": "code",
   "execution_count": null,
   "metadata": {
    "collapsed": true
   },
   "outputs": [],
   "source": []
  }
 ],
 "metadata": {
  "kernelspec": {
   "display_name": "R",
   "language": "R",
   "name": "ir"
  },
  "language_info": {
   "codemirror_mode": "r",
   "file_extension": ".r",
   "mimetype": "text/x-r-source",
   "name": "R",
   "pygments_lexer": "r",
   "version": "3.3.2"
  }
 },
 "nbformat": 4,
 "nbformat_minor": 1
}
