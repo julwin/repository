{
 "cells": [
  {
   "cell_type": "markdown",
   "metadata": {},
   "source": [
    "# Todo: Stemming & stopword removal für Kandidat & Anforderung fertigmachen"
   ]
  },
  {
   "cell_type": "markdown",
   "metadata": {},
   "source": [
    "### Prüfen und installieren der benötigten Pakete"
   ]
  },
  {
   "cell_type": "code",
   "execution_count": 236,
   "metadata": {
    "collapsed": false
   },
   "outputs": [
    {
     "name": "stderr",
     "output_type": "stream",
     "text": [
      "\n",
      "Attaching package: 'dplyr'\n",
      "\n",
      "The following objects are masked from 'package:stats':\n",
      "\n",
      "    filter, lag\n",
      "\n",
      "The following objects are masked from 'package:base':\n",
      "\n",
      "    intersect, setdiff, setequal, union\n",
      "\n"
     ]
    }
   ],
   "source": [
    "if (!require(\"stringdist\")) {\n",
    "   install.packages(\"stringdist\", repos=\"https://cran.uni-muenster.de/\")\n",
    "   library(stringdist)\n",
    "   }\n",
    "\n",
    "if (!require(\"plotly\")) {\n",
    "   install.packages(\"plotly\", repos=\"https://cran.uni-muenster.de/\")\n",
    "   library(plotly)\n",
    "   }\n",
    "\n",
    "if (!require(\"RColorBrewer\")) {\n",
    "   install.packages(\"RColorBrewer\", repos=\"https://cran.uni-muenster.de/\")\n",
    "   library(RColorBrewer)\n",
    "   }\n",
    "\n",
    "if (!require(\"gplots\")) {\n",
    "   install.packages(\"gplots\", dependencies = TRUE,repos=\"https://cran.uni-muenster.de\")\n",
    "   library(gplots)\n",
    "   }\n",
    "\n",
    "if (!require(\"tm\")) {\n",
    "   install.packages(\"tm\", dependencies = TRUE,repos=\"https://cran.uni-muenster.de\")\n",
    "   library(tm)\n",
    "   }\n",
    "\n",
    "if (!require(\"SnowballC\")) {\n",
    "   install.packages(\"SnowballC\", dependencies = TRUE,repos=\"https://cran.uni-muenster.de\")\n",
    "   library(SnowballC)\n",
    "   }\n",
    "\n",
    "library(reshape2)\n",
    "library(dplyr)"
   ]
  },
  {
   "cell_type": "code",
   "execution_count": 283,
   "metadata": {
    "collapsed": false,
    "scrolled": true
   },
   "outputs": [],
   "source": [
    "# Optional\n",
    "# install.packages(\"data.tree\", repos=\"https://cran.uni-muenster.de/\")\n",
    "# library(data.tree)"
   ]
  },
  {
   "cell_type": "markdown",
   "metadata": {
    "collapsed": false
   },
   "source": [
    "### Laden der Daten"
   ]
  },
  {
   "cell_type": "code",
   "execution_count": 658,
   "metadata": {
    "collapsed": false
   },
   "outputs": [],
   "source": [
    "AnforderungenDB <- read.csv(\"skillsDB.csv\", sep=\";\")"
   ]
  },
  {
   "cell_type": "code",
   "execution_count": 659,
   "metadata": {
    "collapsed": true
   },
   "outputs": [],
   "source": [
    "KenntnisseDB <- read.csv(\"skills.csv\", sep=\";\")"
   ]
  },
  {
   "cell_type": "markdown",
   "metadata": {},
   "source": [
    "### Untersuchen der Daten"
   ]
  },
  {
   "cell_type": "code",
   "execution_count": 660,
   "metadata": {
    "collapsed": false
   },
   "outputs": [
    {
     "data": {
      "text/html": [
       "<ol class=list-inline>\n",
       "\t<li>47</li>\n",
       "\t<li>2</li>\n",
       "</ol>\n"
      ],
      "text/latex": [
       "\\begin{enumerate*}\n",
       "\\item 47\n",
       "\\item 2\n",
       "\\end{enumerate*}\n"
      ],
      "text/markdown": [
       "1. 47\n",
       "2. 2\n",
       "\n",
       "\n"
      ],
      "text/plain": [
       "[1] 47  2"
      ]
     },
     "metadata": {},
     "output_type": "display_data"
    }
   ],
   "source": [
    "dim(AnforderungenDB)"
   ]
  },
  {
   "cell_type": "code",
   "execution_count": 661,
   "metadata": {
    "collapsed": false
   },
   "outputs": [
    {
     "data": {
      "text/html": [
       "<ol class=list-inline>\n",
       "\t<li>154</li>\n",
       "\t<li>1</li>\n",
       "</ol>\n"
      ],
      "text/latex": [
       "\\begin{enumerate*}\n",
       "\\item 154\n",
       "\\item 1\n",
       "\\end{enumerate*}\n"
      ],
      "text/markdown": [
       "1. 154\n",
       "2. 1\n",
       "\n",
       "\n"
      ],
      "text/plain": [
       "[1] 154   1"
      ]
     },
     "metadata": {},
     "output_type": "display_data"
    }
   ],
   "source": [
    "dim(KenntnisseDB)"
   ]
  },
  {
   "cell_type": "markdown",
   "metadata": {},
   "source": [
    "AnforderungenDB ist eine Liste von Anforderungen (z.B. für eine zu besetzende Stelle), gegen die wir die Kenntnisse matchen."
   ]
  },
  {
   "cell_type": "code",
   "execution_count": 662,
   "metadata": {
    "collapsed": false
   },
   "outputs": [
    {
     "data": {
      "text/html": [
       "<table>\n",
       "<thead><tr><th scope=col>Skill</th><th scope=col>Kategorie</th></tr></thead>\n",
       "<tbody>\n",
       "\t<tr><td>V-Modell               </td><td>Entwicklungsmethoden   </td></tr>\n",
       "\t<tr><td>Wasserfallmodell       </td><td>Entwicklungsmethoden   </td></tr>\n",
       "\t<tr><td>Spiralmodell           </td><td>Entwicklungsmethoden   </td></tr>\n",
       "\t<tr><td>Agile Modelle          </td><td>Entwicklungsmethoden   </td></tr>\n",
       "\t<tr><td>Scrum                  </td><td>Entwicklungsmethoden   </td></tr>\n",
       "\t<tr><td>test-driven development</td><td>Entwicklungsmethoden   </td></tr>\n",
       "</tbody>\n",
       "</table>\n"
      ],
      "text/latex": [
       "\\begin{tabular}{r|ll}\n",
       " Skill & Kategorie\\\\\n",
       "\\hline\n",
       "\t V-Modell                & Entwicklungsmethoden   \\\\\n",
       "\t Wasserfallmodell        & Entwicklungsmethoden   \\\\\n",
       "\t Spiralmodell            & Entwicklungsmethoden   \\\\\n",
       "\t Agile Modelle           & Entwicklungsmethoden   \\\\\n",
       "\t Scrum                   & Entwicklungsmethoden   \\\\\n",
       "\t test-driven development & Entwicklungsmethoden   \\\\\n",
       "\\end{tabular}\n"
      ],
      "text/markdown": [
       "\n",
       "Skill | Kategorie | \n",
       "|---|---|---|---|---|---|\n",
       "| V-Modell                | Entwicklungsmethoden    | \n",
       "| Wasserfallmodell        | Entwicklungsmethoden    | \n",
       "| Spiralmodell            | Entwicklungsmethoden    | \n",
       "| Agile Modelle           | Entwicklungsmethoden    | \n",
       "| Scrum                   | Entwicklungsmethoden    | \n",
       "| test-driven development | Entwicklungsmethoden    | \n",
       "\n",
       "\n"
      ],
      "text/plain": [
       "  Skill                   Kategorie           \n",
       "1 V-Modell                Entwicklungsmethoden\n",
       "2 Wasserfallmodell        Entwicklungsmethoden\n",
       "3 Spiralmodell            Entwicklungsmethoden\n",
       "4 Agile Modelle           Entwicklungsmethoden\n",
       "5 Scrum                   Entwicklungsmethoden\n",
       "6 test-driven development Entwicklungsmethoden"
      ]
     },
     "metadata": {},
     "output_type": "display_data"
    }
   ],
   "source": [
    "head(AnforderungenDB)"
   ]
  },
  {
   "cell_type": "markdown",
   "metadata": {},
   "source": [
    "KenntnisseDB ist eine Liste von Kenntnissen (z.B. aus dem CV eines Bewerbers), die wir gegen unsere Anforderungen matchen. Die Kenntnisse enthalten unterschiedliche Schreibweisen und Rechtschreibfehler."
   ]
  },
  {
   "cell_type": "code",
   "execution_count": 663,
   "metadata": {
    "collapsed": false
   },
   "outputs": [
    {
     "data": {
      "text/html": [
       "<table>\n",
       "<thead><tr><th scope=col>Skill</th></tr></thead>\n",
       "<tbody>\n",
       "\t<tr><td>V-Modell                 </td></tr>\n",
       "\t<tr><td>Entwicklung nach V-Modell</td></tr>\n",
       "\t<tr><td>VModell                  </td></tr>\n",
       "\t<tr><td>V-Model                  </td></tr>\n",
       "\t<tr><td>Wasserfallmodell         </td></tr>\n",
       "\t<tr><td>waterfall model          </td></tr>\n",
       "</tbody>\n",
       "</table>\n"
      ],
      "text/latex": [
       "\\begin{tabular}{r|l}\n",
       " Skill\\\\\n",
       "\\hline\n",
       "\t V-Modell                 \\\\\n",
       "\t Entwicklung nach V-Modell\\\\\n",
       "\t VModell                  \\\\\n",
       "\t V-Model                  \\\\\n",
       "\t Wasserfallmodell         \\\\\n",
       "\t waterfall model          \\\\\n",
       "\\end{tabular}\n"
      ],
      "text/markdown": [
       "\n",
       "Skill | \n",
       "|---|---|---|---|---|---|\n",
       "| V-Modell                  | \n",
       "| Entwicklung nach V-Modell | \n",
       "| VModell                   | \n",
       "| V-Model                   | \n",
       "| Wasserfallmodell          | \n",
       "| waterfall model           | \n",
       "\n",
       "\n"
      ],
      "text/plain": [
       "  Skill                    \n",
       "1 V-Modell                 \n",
       "2 Entwicklung nach V-Modell\n",
       "3 VModell                  \n",
       "4 V-Model                  \n",
       "5 Wasserfallmodell         \n",
       "6 waterfall model          "
      ]
     },
     "metadata": {},
     "output_type": "display_data"
    }
   ],
   "source": [
    "head(KenntnisseDB)"
   ]
  },
  {
   "cell_type": "markdown",
   "metadata": {},
   "source": [
    "Zufälliges Ziehen von 20 Zeilen aus KenntnisseDB, um ein Kandidatenprofil aus 20 Skills zu simulieren"
   ]
  },
  {
   "cell_type": "code",
   "execution_count": 664,
   "metadata": {
    "collapsed": false
   },
   "outputs": [
    {
     "data": {
      "text/html": [
       "<ol class=list-inline>\n",
       "\t<li>VBScript</li>\n",
       "\t<li>HTML Entwicklung</li>\n",
       "\t<li>Programmieren in C++</li>\n",
       "\t<li>ABAP</li>\n",
       "\t<li>Softwareentwicklung in C</li>\n",
       "\t<li>Agile Softwareentwicklung</li>\n",
       "\t<li>Javascript</li>\n",
       "\t<li>Simulation</li>\n",
       "\t<li>Dokumentation</li>\n",
       "\t<li>Visual basic Programmierung</li>\n",
       "\t<li>Visual Basic</li>\n",
       "\t<li>SUCRM</li>\n",
       "\t<li>HTML Programmierung</li>\n",
       "\t<li>SAP-CO</li>\n",
       "\t<li>C#-Programmierung</li>\n",
       "\t<li>SAP-HR</li>\n",
       "\t<li>Java</li>\n",
       "\t<li>Projektmanagement</li>\n",
       "\t<li>Agile Entwicklung</li>\n",
       "\t<li>SAP BW</li>\n",
       "</ol>\n"
      ],
      "text/latex": [
       "\\begin{enumerate*}\n",
       "\\item VBScript\n",
       "\\item HTML Entwicklung\n",
       "\\item Programmieren in C++\n",
       "\\item ABAP\n",
       "\\item Softwareentwicklung in C\n",
       "\\item Agile Softwareentwicklung\n",
       "\\item Javascript\n",
       "\\item Simulation\n",
       "\\item Dokumentation\n",
       "\\item Visual basic Programmierung\n",
       "\\item Visual Basic\n",
       "\\item SUCRM\n",
       "\\item HTML Programmierung\n",
       "\\item SAP-CO\n",
       "\\item C\\#-Programmierung\n",
       "\\item SAP-HR\n",
       "\\item Java\n",
       "\\item Projektmanagement\n",
       "\\item Agile Entwicklung\n",
       "\\item SAP BW\n",
       "\\end{enumerate*}\n"
      ],
      "text/markdown": [
       "1. VBScript\n",
       "2. HTML Entwicklung\n",
       "3. Programmieren in C++\n",
       "4. ABAP\n",
       "5. Softwareentwicklung in C\n",
       "6. Agile Softwareentwicklung\n",
       "7. Javascript\n",
       "8. Simulation\n",
       "9. Dokumentation\n",
       "10. Visual basic Programmierung\n",
       "11. Visual Basic\n",
       "12. SUCRM\n",
       "13. HTML Programmierung\n",
       "14. SAP-CO\n",
       "15. C#-Programmierung\n",
       "16. SAP-HR\n",
       "17. Java\n",
       "18. Projektmanagement\n",
       "19. Agile Entwicklung\n",
       "20. SAP BW\n",
       "\n",
       "\n"
      ],
      "text/plain": [
       " [1] VBScript                    HTML Entwicklung           \n",
       " [3] Programmieren in C++        ABAP                       \n",
       " [5] Softwareentwicklung in C    Agile Softwareentwicklung  \n",
       " [7] Javascript                  Simulation                 \n",
       " [9] Dokumentation               Visual basic Programmierung\n",
       "[11] Visual Basic                SUCRM                      \n",
       "[13] HTML Programmierung         SAP-CO                     \n",
       "[15] C#-Programmierung           SAP-HR                     \n",
       "[17] Java                        Projektmanagement          \n",
       "[19] Agile Entwicklung           SAP BW                     \n",
       "154 Levels: ABAP ABAP-Development ABAP Entwicklung ... waterfall model"
      ]
     },
     "metadata": {},
     "output_type": "display_data"
    }
   ],
   "source": [
    "Kandidat <-KenntnisseDB[sample(nrow(KenntnisseDB),20, replace=F),]\n",
    "Kandidat"
   ]
  },
  {
   "cell_type": "markdown",
   "metadata": {},
   "source": [
    "Zufälliges Ziehen von 10 Zeilen aus AnforderungenDB, um ein Stellenprofil aus 10 Skills zu simulieren"
   ]
  },
  {
   "cell_type": "code",
   "execution_count": 665,
   "metadata": {
    "collapsed": false
   },
   "outputs": [
    {
     "data": {
      "text/html": [
       "<table>\n",
       "<thead><tr><th></th><th scope=col>Skill</th><th scope=col>Kategorie</th></tr></thead>\n",
       "<tbody>\n",
       "\t<tr><th scope=row>4</th><td>Agile Modelle       </td><td>Entwicklungsmethoden</td></tr>\n",
       "\t<tr><th scope=row>29</th><td>PostgreSQL          </td><td>Datenbanken         </td></tr>\n",
       "\t<tr><th scope=row>18</th><td>Javascript          </td><td>Programmiersprachen </td></tr>\n",
       "\t<tr><th scope=row>9</th><td>C++                 </td><td>Programmiersprachen </td></tr>\n",
       "\t<tr><th scope=row>37</th><td>Modulbetreuung      </td><td>Business IT         </td></tr>\n",
       "\t<tr><th scope=row>2</th><td>Wasserfallmodell    </td><td>Entwicklungsmethoden</td></tr>\n",
       "\t<tr><th scope=row>20</th><td>Perl                </td><td>Programmiersprachen </td></tr>\n",
       "\t<tr><th scope=row>40</th><td>Design              </td><td>Erfahrungen         </td></tr>\n",
       "\t<tr><th scope=row>47</th><td>Qualitätsmanagement </td><td>Erfahrungen         </td></tr>\n",
       "\t<tr><th scope=row>12</th><td>Delphi              </td><td>Programmiersprachen </td></tr>\n",
       "</tbody>\n",
       "</table>\n"
      ],
      "text/latex": [
       "\\begin{tabular}{r|ll}\n",
       "  & Skill & Kategorie\\\\\n",
       "\\hline\n",
       "\t4 & Agile Modelle        & Entwicklungsmethoden\\\\\n",
       "\t29 & PostgreSQL           & Datenbanken         \\\\\n",
       "\t18 & Javascript           & Programmiersprachen \\\\\n",
       "\t9 & C++                  & Programmiersprachen \\\\\n",
       "\t37 & Modulbetreuung       & Business IT         \\\\\n",
       "\t2 & Wasserfallmodell     & Entwicklungsmethoden\\\\\n",
       "\t20 & Perl                 & Programmiersprachen \\\\\n",
       "\t40 & Design               & Erfahrungen         \\\\\n",
       "\t47 & Qualitätsmanagement  & Erfahrungen         \\\\\n",
       "\t12 & Delphi               & Programmiersprachen \\\\\n",
       "\\end{tabular}\n"
      ],
      "text/markdown": [
       "\n",
       "| <!--/--> | Skill | Kategorie | \n",
       "|---|---|---|---|---|---|---|---|---|---|\n",
       "| 4 | Agile Modelle        | Entwicklungsmethoden | \n",
       "| 29 | PostgreSQL           | Datenbanken          | \n",
       "| 18 | Javascript           | Programmiersprachen  | \n",
       "| 9 | C++                  | Programmiersprachen  | \n",
       "| 37 | Modulbetreuung       | Business IT          | \n",
       "| 2 | Wasserfallmodell     | Entwicklungsmethoden | \n",
       "| 20 | Perl                 | Programmiersprachen  | \n",
       "| 40 | Design               | Erfahrungen          | \n",
       "| 47 | Qualitätsmanagement  | Erfahrungen          | \n",
       "| 12 | Delphi               | Programmiersprachen  | \n",
       "\n",
       "\n"
      ],
      "text/plain": [
       "   Skill               Kategorie           \n",
       "4  Agile Modelle       Entwicklungsmethoden\n",
       "29 PostgreSQL          Datenbanken         \n",
       "18 Javascript          Programmiersprachen \n",
       "9  C++                 Programmiersprachen \n",
       "37 Modulbetreuung      Business IT         \n",
       "2  Wasserfallmodell    Entwicklungsmethoden\n",
       "20 Perl                Programmiersprachen \n",
       "40 Design              Erfahrungen         \n",
       "47 Qualitätsmanagement Erfahrungen         \n",
       "12 Delphi              Programmiersprachen "
      ]
     },
     "metadata": {},
     "output_type": "display_data"
    }
   ],
   "source": [
    "Anforderungen <- AnforderungenDB[sample(nrow(AnforderungenDB), 10, replace=F),]\n",
    "Anforderungen"
   ]
  },
  {
   "cell_type": "markdown",
   "metadata": {},
   "source": [
    "### Preprocessing"
   ]
  },
  {
   "cell_type": "markdown",
   "metadata": {},
   "source": [
    "Um die Berechnung der Ähnlichkeit zu vereinfachen werden zunächst die Strings zu lowercase transformiert."
   ]
  },
  {
   "cell_type": "code",
   "execution_count": 666,
   "metadata": {
    "collapsed": false
   },
   "outputs": [
    {
     "data": {
      "text/html": [
       "<table>\n",
       "<thead><tr><th></th><th scope=col>Skill</th><th scope=col>Kategorie</th></tr></thead>\n",
       "<tbody>\n",
       "\t<tr><th scope=row>4</th><td>agile modelle       </td><td>Entwicklungsmethoden</td></tr>\n",
       "\t<tr><th scope=row>29</th><td>postgresql          </td><td>Datenbanken         </td></tr>\n",
       "\t<tr><th scope=row>18</th><td>javascript          </td><td>Programmiersprachen </td></tr>\n",
       "\t<tr><th scope=row>9</th><td>c++                 </td><td>Programmiersprachen </td></tr>\n",
       "\t<tr><th scope=row>37</th><td>modulbetreuung      </td><td>Business IT         </td></tr>\n",
       "\t<tr><th scope=row>2</th><td>wasserfallmodell    </td><td>Entwicklungsmethoden</td></tr>\n",
       "\t<tr><th scope=row>20</th><td>perl                </td><td>Programmiersprachen </td></tr>\n",
       "\t<tr><th scope=row>40</th><td>design              </td><td>Erfahrungen         </td></tr>\n",
       "\t<tr><th scope=row>47</th><td>qualitätsmanagement </td><td>Erfahrungen         </td></tr>\n",
       "\t<tr><th scope=row>12</th><td>delphi              </td><td>Programmiersprachen </td></tr>\n",
       "</tbody>\n",
       "</table>\n"
      ],
      "text/latex": [
       "\\begin{tabular}{r|ll}\n",
       "  & Skill & Kategorie\\\\\n",
       "\\hline\n",
       "\t4 & agile modelle        & Entwicklungsmethoden\\\\\n",
       "\t29 & postgresql           & Datenbanken         \\\\\n",
       "\t18 & javascript           & Programmiersprachen \\\\\n",
       "\t9 & c++                  & Programmiersprachen \\\\\n",
       "\t37 & modulbetreuung       & Business IT         \\\\\n",
       "\t2 & wasserfallmodell     & Entwicklungsmethoden\\\\\n",
       "\t20 & perl                 & Programmiersprachen \\\\\n",
       "\t40 & design               & Erfahrungen         \\\\\n",
       "\t47 & qualitätsmanagement  & Erfahrungen         \\\\\n",
       "\t12 & delphi               & Programmiersprachen \\\\\n",
       "\\end{tabular}\n"
      ],
      "text/markdown": [
       "\n",
       "| <!--/--> | Skill | Kategorie | \n",
       "|---|---|---|---|---|---|---|---|---|---|\n",
       "| 4 | agile modelle        | Entwicklungsmethoden | \n",
       "| 29 | postgresql           | Datenbanken          | \n",
       "| 18 | javascript           | Programmiersprachen  | \n",
       "| 9 | c++                  | Programmiersprachen  | \n",
       "| 37 | modulbetreuung       | Business IT          | \n",
       "| 2 | wasserfallmodell     | Entwicklungsmethoden | \n",
       "| 20 | perl                 | Programmiersprachen  | \n",
       "| 40 | design               | Erfahrungen          | \n",
       "| 47 | qualitätsmanagement  | Erfahrungen          | \n",
       "| 12 | delphi               | Programmiersprachen  | \n",
       "\n",
       "\n"
      ],
      "text/plain": [
       "   Skill               Kategorie           \n",
       "4  agile modelle       Entwicklungsmethoden\n",
       "29 postgresql          Datenbanken         \n",
       "18 javascript          Programmiersprachen \n",
       "9  c++                 Programmiersprachen \n",
       "37 modulbetreuung      Business IT         \n",
       "2  wasserfallmodell    Entwicklungsmethoden\n",
       "20 perl                Programmiersprachen \n",
       "40 design              Erfahrungen         \n",
       "47 qualitätsmanagement Erfahrungen         \n",
       "12 delphi              Programmiersprachen "
      ]
     },
     "metadata": {},
     "output_type": "display_data"
    }
   ],
   "source": [
    "Anforderungen$Skill <- sapply(Anforderungen$Skill, tolower)\n",
    "Anforderungen"
   ]
  },
  {
   "cell_type": "code",
   "execution_count": 667,
   "metadata": {
    "collapsed": false
   },
   "outputs": [
    {
     "data": {
      "text/html": [
       "<ol class=list-inline>\n",
       "\t<li>'vbscript'</li>\n",
       "\t<li>'html entwicklung'</li>\n",
       "\t<li>'programmieren in c++'</li>\n",
       "\t<li>'abap'</li>\n",
       "\t<li>'softwareentwicklung in c'</li>\n",
       "\t<li>'agile softwareentwicklung'</li>\n",
       "\t<li>'javascript'</li>\n",
       "\t<li>'simulation'</li>\n",
       "\t<li>'dokumentation'</li>\n",
       "\t<li>'visual basic programmierung'</li>\n",
       "\t<li>'visual basic'</li>\n",
       "\t<li>'sucrm'</li>\n",
       "\t<li>'html programmierung'</li>\n",
       "\t<li>'sap-co'</li>\n",
       "\t<li>'c#-programmierung'</li>\n",
       "\t<li>'sap-hr'</li>\n",
       "\t<li>'java'</li>\n",
       "\t<li>'projektmanagement'</li>\n",
       "\t<li>'agile entwicklung'</li>\n",
       "\t<li>'sap bw'</li>\n",
       "</ol>\n"
      ],
      "text/latex": [
       "\\begin{enumerate*}\n",
       "\\item 'vbscript'\n",
       "\\item 'html entwicklung'\n",
       "\\item 'programmieren in c++'\n",
       "\\item 'abap'\n",
       "\\item 'softwareentwicklung in c'\n",
       "\\item 'agile softwareentwicklung'\n",
       "\\item 'javascript'\n",
       "\\item 'simulation'\n",
       "\\item 'dokumentation'\n",
       "\\item 'visual basic programmierung'\n",
       "\\item 'visual basic'\n",
       "\\item 'sucrm'\n",
       "\\item 'html programmierung'\n",
       "\\item 'sap-co'\n",
       "\\item 'c\\#-programmierung'\n",
       "\\item 'sap-hr'\n",
       "\\item 'java'\n",
       "\\item 'projektmanagement'\n",
       "\\item 'agile entwicklung'\n",
       "\\item 'sap bw'\n",
       "\\end{enumerate*}\n"
      ],
      "text/markdown": [
       "1. 'vbscript'\n",
       "2. 'html entwicklung'\n",
       "3. 'programmieren in c++'\n",
       "4. 'abap'\n",
       "5. 'softwareentwicklung in c'\n",
       "6. 'agile softwareentwicklung'\n",
       "7. 'javascript'\n",
       "8. 'simulation'\n",
       "9. 'dokumentation'\n",
       "10. 'visual basic programmierung'\n",
       "11. 'visual basic'\n",
       "12. 'sucrm'\n",
       "13. 'html programmierung'\n",
       "14. 'sap-co'\n",
       "15. 'c#-programmierung'\n",
       "16. 'sap-hr'\n",
       "17. 'java'\n",
       "18. 'projektmanagement'\n",
       "19. 'agile entwicklung'\n",
       "20. 'sap bw'\n",
       "\n",
       "\n"
      ],
      "text/plain": [
       " [1] \"vbscript\"                    \"html entwicklung\"           \n",
       " [3] \"programmieren in c++\"        \"abap\"                       \n",
       " [5] \"softwareentwicklung in c\"    \"agile softwareentwicklung\"  \n",
       " [7] \"javascript\"                  \"simulation\"                 \n",
       " [9] \"dokumentation\"               \"visual basic programmierung\"\n",
       "[11] \"visual basic\"                \"sucrm\"                      \n",
       "[13] \"html programmierung\"         \"sap-co\"                     \n",
       "[15] \"c#-programmierung\"           \"sap-hr\"                     \n",
       "[17] \"java\"                        \"projektmanagement\"          \n",
       "[19] \"agile entwicklung\"           \"sap bw\"                     "
      ]
     },
     "metadata": {},
     "output_type": "display_data"
    }
   ],
   "source": [
    "Kandidat <- tolower(Kandidat)\n",
    "Kandidat"
   ]
  },
  {
   "cell_type": "markdown",
   "metadata": {},
   "source": [
    "Dann werden \"-\" durch Leerzeichen ersetzt."
   ]
  },
  {
   "cell_type": "code",
   "execution_count": 668,
   "metadata": {
    "collapsed": true
   },
   "outputs": [],
   "source": [
    "Anforderungen$Skill <- gsub(\"-\", \" \", Anforderungen$Skill)"
   ]
  },
  {
   "cell_type": "markdown",
   "metadata": {},
   "source": [
    "Um die Funktionen der Bibliothek \"tm\" nutzen zu können, muss der Datensatz transformiert werden:"
   ]
  },
  {
   "cell_type": "code",
   "execution_count": 669,
   "metadata": {
    "collapsed": false
   },
   "outputs": [],
   "source": [
    "docs <- VCorpus(VectorSource(Anforderungen$Skill))"
   ]
  },
  {
   "cell_type": "markdown",
   "metadata": {},
   "source": [
    "Dann wird stemming und stopword removal durchgeführt"
   ]
  },
  {
   "cell_type": "code",
   "execution_count": 670,
   "metadata": {
    "collapsed": false
   },
   "outputs": [],
   "source": [
    "docs <- tm_map(docs, removeWords, stopwords(\"german\"))"
   ]
  },
  {
   "cell_type": "code",
   "execution_count": 671,
   "metadata": {
    "collapsed": false
   },
   "outputs": [],
   "source": [
    "docs <- tm_map(docs, stemDocument)"
   ]
  },
  {
   "cell_type": "code",
   "execution_count": 672,
   "metadata": {
    "collapsed": false
   },
   "outputs": [],
   "source": [
    "data <- data.frame(lapply(docs, as.character))"
   ]
  },
  {
   "cell_type": "code",
   "execution_count": 676,
   "metadata": {
    "collapsed": false
   },
   "outputs": [],
   "source": [
    "mdata <- t(data)"
   ]
  },
  {
   "cell_type": "code",
   "execution_count": 677,
   "metadata": {
    "collapsed": false
   },
   "outputs": [
    {
     "data": {
      "text/html": [
       "<table>\n",
       "<thead><tr><th scope=col>X1</th><th scope=col>X2</th><th scope=col>X3</th><th scope=col>X4</th><th scope=col>X5</th><th scope=col>X6</th><th scope=col>X7</th><th scope=col>X8</th><th scope=col>X9</th><th scope=col>X10</th></tr></thead>\n",
       "<tbody>\n",
       "\t<tr><td>agil modell    </td><td>postgresql     </td><td>javascript     </td><td>c++            </td><td>modulbetreuung </td><td>wasserfallmodel</td><td>perl           </td><td>design         </td><td>qualitätsmanag </td><td>delphi         </td></tr>\n",
       "</tbody>\n",
       "</table>\n"
      ],
      "text/latex": [
       "\\begin{tabular}{r|llllllllll}\n",
       " X1 & X2 & X3 & X4 & X5 & X6 & X7 & X8 & X9 & X10\\\\\n",
       "\\hline\n",
       "\t agil modell     & postgresql      & javascript      & c++             & modulbetreuung  & wasserfallmodel & perl            & design          & qualitätsmanag  & delphi         \\\\\n",
       "\\end{tabular}\n"
      ],
      "text/markdown": [
       "\n",
       "X1 | X2 | X3 | X4 | X5 | X6 | X7 | X8 | X9 | X10 | \n",
       "|---|\n",
       "| agil modell     | postgresql      | javascript      | c++             | modulbetreuung  | wasserfallmodel | perl            | design          | qualitätsmanag  | delphi          | \n",
       "\n",
       "\n"
      ],
      "text/plain": [
       "  X1          X2         X3         X4  X5             X6              X7  \n",
       "1 agil modell postgresql javascript c++ modulbetreuung wasserfallmodel perl\n",
       "  X8     X9             X10   \n",
       "1 design qualitätsmanag delphi"
      ]
     },
     "metadata": {},
     "output_type": "display_data"
    }
   ],
   "source": [
    "data"
   ]
  },
  {
   "cell_type": "code",
   "execution_count": 678,
   "metadata": {
    "collapsed": false
   },
   "outputs": [
    {
     "data": {
      "text/html": [
       "<table>\n",
       "<tbody>\n",
       "\t<tr><th scope=row>X1</th><td>agil modell    </td></tr>\n",
       "\t<tr><th scope=row>X2</th><td>postgresql     </td></tr>\n",
       "\t<tr><th scope=row>X3</th><td>javascript     </td></tr>\n",
       "\t<tr><th scope=row>X4</th><td>c++            </td></tr>\n",
       "\t<tr><th scope=row>X5</th><td>modulbetreuung </td></tr>\n",
       "\t<tr><th scope=row>X6</th><td>wasserfallmodel</td></tr>\n",
       "\t<tr><th scope=row>X7</th><td>perl           </td></tr>\n",
       "\t<tr><th scope=row>X8</th><td>design         </td></tr>\n",
       "\t<tr><th scope=row>X9</th><td>qualitätsmanag </td></tr>\n",
       "\t<tr><th scope=row>X10</th><td>delphi         </td></tr>\n",
       "</tbody>\n",
       "</table>\n"
      ],
      "text/latex": [
       "\\begin{tabular}{r|l}\n",
       "\tX1 & agil modell    \\\\\n",
       "\tX2 & postgresql     \\\\\n",
       "\tX3 & javascript     \\\\\n",
       "\tX4 & c++            \\\\\n",
       "\tX5 & modulbetreuung \\\\\n",
       "\tX6 & wasserfallmodel\\\\\n",
       "\tX7 & perl           \\\\\n",
       "\tX8 & design         \\\\\n",
       "\tX9 & qualitätsmanag \\\\\n",
       "\tX10 & delphi         \\\\\n",
       "\\end{tabular}\n"
      ],
      "text/markdown": [
       "\n",
       "| X1 | agil modell     | \n",
       "| X2 | postgresql      | \n",
       "| X3 | javascript      | \n",
       "| X4 | c++             | \n",
       "| X5 | modulbetreuung  | \n",
       "| X6 | wasserfallmodel | \n",
       "| X7 | perl            | \n",
       "| X8 | design          | \n",
       "| X9 | qualitätsmanag  | \n",
       "| X10 | delphi          | \n",
       "\n",
       "\n"
      ],
      "text/plain": [
       "    [,1]           \n",
       "X1  agil modell    \n",
       "X2  postgresql     \n",
       "X3  javascript     \n",
       "X4  c++            \n",
       "X5  modulbetreuung \n",
       "X6  wasserfallmodel\n",
       "X7  perl           \n",
       "X8  design         \n",
       "X9  qualitätsmanag \n",
       "X10 delphi         "
      ]
     },
     "metadata": {},
     "output_type": "display_data"
    }
   ],
   "source": [
    "mdata"
   ]
  },
  {
   "cell_type": "code",
   "execution_count": 679,
   "metadata": {
    "collapsed": true
   },
   "outputs": [],
   "source": [
    "rownames(mdata)<- rownames(Anforderungen)\n",
    "colnames(mdata) <- \"Skill\""
   ]
  },
  {
   "cell_type": "code",
   "execution_count": 680,
   "metadata": {
    "collapsed": false
   },
   "outputs": [
    {
     "data": {
      "text/html": [
       "<table>\n",
       "<thead><tr><th></th><th scope=col>Skill</th></tr></thead>\n",
       "<tbody>\n",
       "\t<tr><th scope=row>4</th><td>agil modell    </td></tr>\n",
       "\t<tr><th scope=row>29</th><td>postgresql     </td></tr>\n",
       "\t<tr><th scope=row>18</th><td>javascript     </td></tr>\n",
       "\t<tr><th scope=row>9</th><td>c++            </td></tr>\n",
       "\t<tr><th scope=row>37</th><td>modulbetreuung </td></tr>\n",
       "\t<tr><th scope=row>2</th><td>wasserfallmodel</td></tr>\n",
       "\t<tr><th scope=row>20</th><td>perl           </td></tr>\n",
       "\t<tr><th scope=row>40</th><td>design         </td></tr>\n",
       "\t<tr><th scope=row>47</th><td>qualitätsmanag </td></tr>\n",
       "\t<tr><th scope=row>12</th><td>delphi         </td></tr>\n",
       "</tbody>\n",
       "</table>\n"
      ],
      "text/latex": [
       "\\begin{tabular}{r|l}\n",
       "  & Skill\\\\\n",
       "\\hline\n",
       "\t4 & agil modell    \\\\\n",
       "\t29 & postgresql     \\\\\n",
       "\t18 & javascript     \\\\\n",
       "\t9 & c++            \\\\\n",
       "\t37 & modulbetreuung \\\\\n",
       "\t2 & wasserfallmodel\\\\\n",
       "\t20 & perl           \\\\\n",
       "\t40 & design         \\\\\n",
       "\t47 & qualitätsmanag \\\\\n",
       "\t12 & delphi         \\\\\n",
       "\\end{tabular}\n"
      ],
      "text/markdown": [
       "\n",
       "| <!--/--> | Skill | \n",
       "|---|---|---|---|---|---|---|---|---|---|\n",
       "| 4 | agil modell     | \n",
       "| 29 | postgresql      | \n",
       "| 18 | javascript      | \n",
       "| 9 | c++             | \n",
       "| 37 | modulbetreuung  | \n",
       "| 2 | wasserfallmodel | \n",
       "| 20 | perl            | \n",
       "| 40 | design          | \n",
       "| 47 | qualitätsmanag  | \n",
       "| 12 | delphi          | \n",
       "\n",
       "\n"
      ],
      "text/plain": [
       "   Skill          \n",
       "4  agil modell    \n",
       "29 postgresql     \n",
       "18 javascript     \n",
       "9  c++            \n",
       "37 modulbetreuung \n",
       "2  wasserfallmodel\n",
       "20 perl           \n",
       "40 design         \n",
       "47 qualitätsmanag \n",
       "12 delphi         "
      ]
     },
     "metadata": {},
     "output_type": "display_data"
    }
   ],
   "source": [
    "mdata"
   ]
  },
  {
   "cell_type": "code",
   "execution_count": 681,
   "metadata": {
    "collapsed": false
   },
   "outputs": [],
   "source": [
    "Anforderungen$Skill <- mdata"
   ]
  },
  {
   "cell_type": "code",
   "execution_count": 682,
   "metadata": {
    "collapsed": false
   },
   "outputs": [
    {
     "data": {
      "text/html": [
       "<table>\n",
       "<thead><tr><th></th><th scope=col>Skill</th><th scope=col>Kategorie</th></tr></thead>\n",
       "<tbody>\n",
       "\t<tr><th scope=row>4</th><td>agil modell         </td><td>Entwicklungsmethoden</td></tr>\n",
       "\t<tr><th scope=row>29</th><td>postgresql          </td><td>Datenbanken         </td></tr>\n",
       "\t<tr><th scope=row>18</th><td>javascript          </td><td>Programmiersprachen </td></tr>\n",
       "\t<tr><th scope=row>9</th><td>c++                 </td><td>Programmiersprachen </td></tr>\n",
       "\t<tr><th scope=row>37</th><td>modulbetreuung      </td><td>Business IT         </td></tr>\n",
       "\t<tr><th scope=row>2</th><td>wasserfallmodel     </td><td>Entwicklungsmethoden</td></tr>\n",
       "\t<tr><th scope=row>20</th><td>perl                </td><td>Programmiersprachen </td></tr>\n",
       "\t<tr><th scope=row>40</th><td>design              </td><td>Erfahrungen         </td></tr>\n",
       "\t<tr><th scope=row>47</th><td>qualitätsmanag      </td><td>Erfahrungen         </td></tr>\n",
       "\t<tr><th scope=row>12</th><td>delphi              </td><td>Programmiersprachen </td></tr>\n",
       "</tbody>\n",
       "</table>\n"
      ],
      "text/latex": [
       "\\begin{tabular}{r|ll}\n",
       "  & Skill & Kategorie\\\\\n",
       "\\hline\n",
       "\t4 & agil modell          & Entwicklungsmethoden\\\\\n",
       "\t29 & postgresql           & Datenbanken         \\\\\n",
       "\t18 & javascript           & Programmiersprachen \\\\\n",
       "\t9 & c++                  & Programmiersprachen \\\\\n",
       "\t37 & modulbetreuung       & Business IT         \\\\\n",
       "\t2 & wasserfallmodel      & Entwicklungsmethoden\\\\\n",
       "\t20 & perl                 & Programmiersprachen \\\\\n",
       "\t40 & design               & Erfahrungen         \\\\\n",
       "\t47 & qualitätsmanag       & Erfahrungen         \\\\\n",
       "\t12 & delphi               & Programmiersprachen \\\\\n",
       "\\end{tabular}\n"
      ],
      "text/markdown": [
       "\n",
       "| <!--/--> | Skill | Kategorie | \n",
       "|---|---|---|---|---|---|---|---|---|---|\n",
       "| 4 | agil modell          | Entwicklungsmethoden | \n",
       "| 29 | postgresql           | Datenbanken          | \n",
       "| 18 | javascript           | Programmiersprachen  | \n",
       "| 9 | c++                  | Programmiersprachen  | \n",
       "| 37 | modulbetreuung       | Business IT          | \n",
       "| 2 | wasserfallmodel      | Entwicklungsmethoden | \n",
       "| 20 | perl                 | Programmiersprachen  | \n",
       "| 40 | design               | Erfahrungen          | \n",
       "| 47 | qualitätsmanag       | Erfahrungen          | \n",
       "| 12 | delphi               | Programmiersprachen  | \n",
       "\n",
       "\n"
      ],
      "text/plain": [
       "   Skill           Kategorie           \n",
       "4  agil modell     Entwicklungsmethoden\n",
       "29 postgresql      Datenbanken         \n",
       "18 javascript      Programmiersprachen \n",
       "9  c++             Programmiersprachen \n",
       "37 modulbetreuung  Business IT         \n",
       "2  wasserfallmodel Entwicklungsmethoden\n",
       "20 perl            Programmiersprachen \n",
       "40 design          Erfahrungen         \n",
       "47 qualitätsmanag  Erfahrungen         \n",
       "12 delphi          Programmiersprachen "
      ]
     },
     "metadata": {},
     "output_type": "display_data"
    }
   ],
   "source": [
    "Anforderungen"
   ]
  },
  {
   "cell_type": "code",
   "execution_count": 683,
   "metadata": {
    "collapsed": false
   },
   "outputs": [
    {
     "data": {
      "text/html": [
       "<ol class=list-inline>\n",
       "\t<li>'vbscript'</li>\n",
       "\t<li>'html entwicklung'</li>\n",
       "\t<li>'programmieren in c++'</li>\n",
       "\t<li>'abap'</li>\n",
       "\t<li>'softwareentwicklung in c'</li>\n",
       "\t<li>'agile softwareentwicklung'</li>\n",
       "\t<li>'javascript'</li>\n",
       "\t<li>'simulation'</li>\n",
       "\t<li>'dokumentation'</li>\n",
       "\t<li>'visual basic programmierung'</li>\n",
       "\t<li>'visual basic'</li>\n",
       "\t<li>'sucrm'</li>\n",
       "\t<li>'html programmierung'</li>\n",
       "\t<li>'sap co'</li>\n",
       "\t<li>'c# programmierung'</li>\n",
       "\t<li>'sap hr'</li>\n",
       "\t<li>'java'</li>\n",
       "\t<li>'projektmanagement'</li>\n",
       "\t<li>'agile entwicklung'</li>\n",
       "\t<li>'sap bw'</li>\n",
       "</ol>\n"
      ],
      "text/latex": [
       "\\begin{enumerate*}\n",
       "\\item 'vbscript'\n",
       "\\item 'html entwicklung'\n",
       "\\item 'programmieren in c++'\n",
       "\\item 'abap'\n",
       "\\item 'softwareentwicklung in c'\n",
       "\\item 'agile softwareentwicklung'\n",
       "\\item 'javascript'\n",
       "\\item 'simulation'\n",
       "\\item 'dokumentation'\n",
       "\\item 'visual basic programmierung'\n",
       "\\item 'visual basic'\n",
       "\\item 'sucrm'\n",
       "\\item 'html programmierung'\n",
       "\\item 'sap co'\n",
       "\\item 'c\\# programmierung'\n",
       "\\item 'sap hr'\n",
       "\\item 'java'\n",
       "\\item 'projektmanagement'\n",
       "\\item 'agile entwicklung'\n",
       "\\item 'sap bw'\n",
       "\\end{enumerate*}\n"
      ],
      "text/markdown": [
       "1. 'vbscript'\n",
       "2. 'html entwicklung'\n",
       "3. 'programmieren in c++'\n",
       "4. 'abap'\n",
       "5. 'softwareentwicklung in c'\n",
       "6. 'agile softwareentwicklung'\n",
       "7. 'javascript'\n",
       "8. 'simulation'\n",
       "9. 'dokumentation'\n",
       "10. 'visual basic programmierung'\n",
       "11. 'visual basic'\n",
       "12. 'sucrm'\n",
       "13. 'html programmierung'\n",
       "14. 'sap co'\n",
       "15. 'c# programmierung'\n",
       "16. 'sap hr'\n",
       "17. 'java'\n",
       "18. 'projektmanagement'\n",
       "19. 'agile entwicklung'\n",
       "20. 'sap bw'\n",
       "\n",
       "\n"
      ],
      "text/plain": [
       " [1] \"vbscript\"                    \"html entwicklung\"           \n",
       " [3] \"programmieren in c++\"        \"abap\"                       \n",
       " [5] \"softwareentwicklung in c\"    \"agile softwareentwicklung\"  \n",
       " [7] \"javascript\"                  \"simulation\"                 \n",
       " [9] \"dokumentation\"               \"visual basic programmierung\"\n",
       "[11] \"visual basic\"                \"sucrm\"                      \n",
       "[13] \"html programmierung\"         \"sap co\"                     \n",
       "[15] \"c# programmierung\"           \"sap hr\"                     \n",
       "[17] \"java\"                        \"projektmanagement\"          \n",
       "[19] \"agile entwicklung\"           \"sap bw\"                     "
      ]
     },
     "metadata": {},
     "output_type": "display_data"
    }
   ],
   "source": [
    "Kandidat <- gsub(\"-\", \" \", Kandidat)\n",
    "Kandidat"
   ]
  },
  {
   "cell_type": "markdown",
   "metadata": {},
   "source": [
    "### Berechnung der String Distances"
   ]
  },
  {
   "cell_type": "markdown",
   "metadata": {},
   "source": [
    "Um festzustellen, wie ähnlich sich Kenntnisse und Anforderungen sind, werden sie kreuzweise verglichen."
   ]
  },
  {
   "cell_type": "code",
   "execution_count": 691,
   "metadata": {
    "collapsed": false
   },
   "outputs": [],
   "source": [
    "similarity_matrix <- data.frame(stringdistmatrix(Anforderungen$Skill,\n",
    "                                                 Kandidat,\n",
    "                                                 method = c(\"jw\"),\n",
    "                                                 p=0.25,\n",
    "                                                 q=2,\n",
    "                                                 useNames=\"strings\",\n",
    "                                                useBytes = TRUE))"
   ]
  },
  {
   "cell_type": "code",
   "execution_count": 694,
   "metadata": {
    "collapsed": false
   },
   "outputs": [
    {
     "data": {
      "text/html": [
       "<table>\n",
       "<thead><tr><th></th><th scope=col>vbscript</th><th scope=col>html.entwicklung</th><th scope=col>programmieren.in.c..</th><th scope=col>abap</th><th scope=col>softwareentwicklung.in.c</th><th scope=col>agile.softwareentwicklung</th><th scope=col>javascript</th><th scope=col>simulation</th><th scope=col>dokumentation</th><th scope=col>visual.basic.programmierung</th><th scope=col>visual.basic</th><th scope=col>sucrm</th><th scope=col>html.programmierung</th><th scope=col>sap.co</th><th scope=col>c..programmierung</th><th scope=col>sap.hr</th><th scope=col>java</th><th scope=col>projektmanagement</th><th scope=col>agile.entwicklung</th><th scope=col>sap.bw</th></tr></thead>\n",
       "<tbody>\n",
       "\t<tr><th scope=row>agil modell</th><td>0.594696970</td><td>0.443181818</td><td>0.480735931</td><td>0.414772727</td><td>0.579040404</td><td>0.000000000</td><td>0.603030303</td><td>0.495454545</td><td>0.609945610</td><td>0.520089787</td><td>0.517676768</td><td>0.569696970</td><td>0.462918660</td><td>0.409090909</td><td>0.550445633</td><td>0.494949495</td><td>0.553030303</td><td>0.683600713</td><td>0.000000000</td><td>0.494949495</td></tr>\n",
       "\t<tr><th scope=row>postgresql</th><td>0.552777778</td><td>0.615277778</td><td>0.387500000</td><td>0.550000000</td><td>0.438888889</td><td>0.506666667</td><td>0.533333333</td><td>0.533333333</td><td>0.600854701</td><td>0.571604938</td><td>0.594444444</td><td>0.466666667</td><td>0.477192982</td><td>0.566666667</td><td>0.501960784</td><td>0.511111111</td><td>1.000000000</td><td>0.365931373</td><td>0.579901961</td><td>0.655555556</td></tr>\n",
       "\t<tr><th scope=row>javascript</th><td>0.141666667</td><td>0.615277778</td><td>0.591666667</td><td>0.433333333</td><td>0.494444444</td><td>0.497777778</td><td>0.000000000</td><td>0.566666667</td><td>0.656410256</td><td>0.467901235</td><td>0.461111111</td><td>0.366666667</td><td>0.578947368</td><td>0.511111111</td><td>0.535294118</td><td>0.511111111</td><td>0.000000000</td><td>0.568627451</td><td>0.579901961</td><td>0.655555556</td></tr>\n",
       "\t<tr><th scope=row>c++</th><td>0.513888889</td><td>1.000000000</td><td>1.000000000</td><td>1.000000000</td><td>1.000000000</td><td>1.000000000</td><td>1.000000000</td><td>1.000000000</td><td>1.000000000</td><td>0.543209877</td><td>1.000000000</td><td>1.000000000</td><td>1.000000000</td><td>1.000000000</td><td>0.401960784</td><td>1.000000000</td><td>1.000000000</td><td>1.000000000</td><td>1.000000000</td><td>1.000000000</td></tr>\n",
       "\t<tr><th scope=row>modulbetreuung</th><td>0.581349206</td><td>0.497023810</td><td>0.507142857</td><td>0.559523810</td><td>0.457010582</td><td>0.424973545</td><td>0.719047619</td><td>0.380952381</td><td>0.439560440</td><td>0.485890653</td><td>0.511904762</td><td>0.561904762</td><td>0.442634364</td><td>0.587301587</td><td>0.572829132</td><td>0.587301587</td><td>1.000000000</td><td>0.423494398</td><td>0.457983193</td><td>0.587301587</td></tr>\n",
       "\t<tr><th scope=row>wasserfallmodel</th><td>0.538888889</td><td>0.648611111</td><td>0.544444444</td><td>0.455555556</td><td>0.508333333</td><td>0.396767677</td><td>0.569444444</td><td>0.569444444</td><td>0.600213675</td><td>0.503703704</td><td>0.550000000</td><td>0.400000000</td><td>0.566959064</td><td>0.544444444</td><td>0.590849673</td><td>0.544444444</td><td>0.455555556</td><td>0.499019608</td><td>0.590849673</td><td>0.544444444</td></tr>\n",
       "\t<tr><th scope=row>perl</th><td>0.541666667</td><td>0.625000000</td><td>0.358333333</td><td>1.000000000</td><td>0.638888889</td><td>0.543333333</td><td>0.550000000</td><td>0.550000000</td><td>0.557692308</td><td>0.641975309</td><td>0.555555556</td><td>0.516666667</td><td>0.530701754</td><td>0.527777778</td><td>0.460784314</td><td>0.527777778</td><td>1.000000000</td><td>0.351715686</td><td>0.627450980</td><td>0.527777778</td></tr>\n",
       "\t<tr><th scope=row>design</th><td>0.472222222</td><td>0.548611111</td><td>0.461111111</td><td>1.000000000</td><td>0.555555556</td><td>0.455555556</td><td>0.488888889</td><td>0.400000000</td><td>0.317307692</td><td>0.574074074</td><td>0.666666667</td><td>0.544444444</td><td>0.593567251</td><td>0.555555556</td><td>0.591503268</td><td>0.555555556</td><td>1.000000000</td><td>0.552287582</td><td>0.449346405</td><td>0.555555556</td></tr>\n",
       "\t<tr><th scope=row>qualitätsmanag</th><td>0.538888889</td><td>0.519444444</td><td>0.594444444</td><td>0.561111111</td><td>0.556746032</td><td>0.457777778</td><td>0.569444444</td><td>0.416666667</td><td>0.450671551</td><td>0.503703704</td><td>0.533333333</td><td>0.488888889</td><td>0.594736842</td><td>0.588888889</td><td>0.524183007</td><td>0.588888889</td><td>0.561111111</td><td>0.554575163</td><td>0.526797386</td><td>0.588888889</td></tr>\n",
       "\t<tr><th scope=row>delphi</th><td>0.638888889</td><td>0.444444444</td><td>0.616666667</td><td>0.527777778</td><td>0.527777778</td><td>0.571111111</td><td>0.577777778</td><td>0.655555556</td><td>0.317307692</td><td>0.629629630</td><td>0.666666667</td><td>1.000000000</td><td>0.499269006</td><td>0.555555556</td><td>0.516339869</td><td>0.444444444</td><td>1.000000000</td><td>0.683006536</td><td>0.552287582</td><td>0.555555556</td></tr>\n",
       "</tbody>\n",
       "</table>\n"
      ],
      "text/latex": [
       "\\begin{tabular}{r|llllllllllllllllllll}\n",
       "  & vbscript & html.entwicklung & programmieren.in.c.. & abap & softwareentwicklung.in.c & agile.softwareentwicklung & javascript & simulation & dokumentation & visual.basic.programmierung & visual.basic & sucrm & html.programmierung & sap.co & c..programmierung & sap.hr & java & projektmanagement & agile.entwicklung & sap.bw\\\\\n",
       "\\hline\n",
       "\tagil modell & 0.594696970 & 0.443181818 & 0.480735931 & 0.414772727 & 0.579040404 & 0.000000000 & 0.603030303 & 0.495454545 & 0.609945610 & 0.520089787 & 0.517676768 & 0.569696970 & 0.462918660 & 0.409090909 & 0.550445633 & 0.494949495 & 0.553030303 & 0.683600713 & 0.000000000 & 0.494949495\\\\\n",
       "\tpostgresql & 0.552777778 & 0.615277778 & 0.387500000 & 0.550000000 & 0.438888889 & 0.506666667 & 0.533333333 & 0.533333333 & 0.600854701 & 0.571604938 & 0.594444444 & 0.466666667 & 0.477192982 & 0.566666667 & 0.501960784 & 0.511111111 & 1.000000000 & 0.365931373 & 0.579901961 & 0.655555556\\\\\n",
       "\tjavascript & 0.141666667 & 0.615277778 & 0.591666667 & 0.433333333 & 0.494444444 & 0.497777778 & 0.000000000 & 0.566666667 & 0.656410256 & 0.467901235 & 0.461111111 & 0.366666667 & 0.578947368 & 0.511111111 & 0.535294118 & 0.511111111 & 0.000000000 & 0.568627451 & 0.579901961 & 0.655555556\\\\\n",
       "\tc++ & 0.513888889 & 1.000000000 & 1.000000000 & 1.000000000 & 1.000000000 & 1.000000000 & 1.000000000 & 1.000000000 & 1.000000000 & 0.543209877 & 1.000000000 & 1.000000000 & 1.000000000 & 1.000000000 & 0.401960784 & 1.000000000 & 1.000000000 & 1.000000000 & 1.000000000 & 1.000000000\\\\\n",
       "\tmodulbetreuung & 0.581349206 & 0.497023810 & 0.507142857 & 0.559523810 & 0.457010582 & 0.424973545 & 0.719047619 & 0.380952381 & 0.439560440 & 0.485890653 & 0.511904762 & 0.561904762 & 0.442634364 & 0.587301587 & 0.572829132 & 0.587301587 & 1.000000000 & 0.423494398 & 0.457983193 & 0.587301587\\\\\n",
       "\twasserfallmodel & 0.538888889 & 0.648611111 & 0.544444444 & 0.455555556 & 0.508333333 & 0.396767677 & 0.569444444 & 0.569444444 & 0.600213675 & 0.503703704 & 0.550000000 & 0.400000000 & 0.566959064 & 0.544444444 & 0.590849673 & 0.544444444 & 0.455555556 & 0.499019608 & 0.590849673 & 0.544444444\\\\\n",
       "\tperl & 0.541666667 & 0.625000000 & 0.358333333 & 1.000000000 & 0.638888889 & 0.543333333 & 0.550000000 & 0.550000000 & 0.557692308 & 0.641975309 & 0.555555556 & 0.516666667 & 0.530701754 & 0.527777778 & 0.460784314 & 0.527777778 & 1.000000000 & 0.351715686 & 0.627450980 & 0.527777778\\\\\n",
       "\tdesign & 0.472222222 & 0.548611111 & 0.461111111 & 1.000000000 & 0.555555556 & 0.455555556 & 0.488888889 & 0.400000000 & 0.317307692 & 0.574074074 & 0.666666667 & 0.544444444 & 0.593567251 & 0.555555556 & 0.591503268 & 0.555555556 & 1.000000000 & 0.552287582 & 0.449346405 & 0.555555556\\\\\n",
       "\tqualitätsmanag & 0.538888889 & 0.519444444 & 0.594444444 & 0.561111111 & 0.556746032 & 0.457777778 & 0.569444444 & 0.416666667 & 0.450671551 & 0.503703704 & 0.533333333 & 0.488888889 & 0.594736842 & 0.588888889 & 0.524183007 & 0.588888889 & 0.561111111 & 0.554575163 & 0.526797386 & 0.588888889\\\\\n",
       "\tdelphi & 0.638888889 & 0.444444444 & 0.616666667 & 0.527777778 & 0.527777778 & 0.571111111 & 0.577777778 & 0.655555556 & 0.317307692 & 0.629629630 & 0.666666667 & 1.000000000 & 0.499269006 & 0.555555556 & 0.516339869 & 0.444444444 & 1.000000000 & 0.683006536 & 0.552287582 & 0.555555556\\\\\n",
       "\\end{tabular}\n"
      ],
      "text/markdown": [
       "\n",
       "| <!--/--> | vbscript | html.entwicklung | programmieren.in.c.. | abap | softwareentwicklung.in.c | agile.softwareentwicklung | javascript | simulation | dokumentation | visual.basic.programmierung | visual.basic | sucrm | html.programmierung | sap.co | c..programmierung | sap.hr | java | projektmanagement | agile.entwicklung | sap.bw | \n",
       "|---|---|---|---|---|---|---|---|---|---|\n",
       "| agil modell | 0.594696970 | 0.443181818 | 0.480735931 | 0.414772727 | 0.579040404 | 0.000000000 | 0.603030303 | 0.495454545 | 0.609945610 | 0.520089787 | 0.517676768 | 0.569696970 | 0.462918660 | 0.409090909 | 0.550445633 | 0.494949495 | 0.553030303 | 0.683600713 | 0.000000000 | 0.494949495 | \n",
       "| postgresql | 0.552777778 | 0.615277778 | 0.387500000 | 0.550000000 | 0.438888889 | 0.506666667 | 0.533333333 | 0.533333333 | 0.600854701 | 0.571604938 | 0.594444444 | 0.466666667 | 0.477192982 | 0.566666667 | 0.501960784 | 0.511111111 | 1.000000000 | 0.365931373 | 0.579901961 | 0.655555556 | \n",
       "| javascript | 0.141666667 | 0.615277778 | 0.591666667 | 0.433333333 | 0.494444444 | 0.497777778 | 0.000000000 | 0.566666667 | 0.656410256 | 0.467901235 | 0.461111111 | 0.366666667 | 0.578947368 | 0.511111111 | 0.535294118 | 0.511111111 | 0.000000000 | 0.568627451 | 0.579901961 | 0.655555556 | \n",
       "| c++ | 0.513888889 | 1.000000000 | 1.000000000 | 1.000000000 | 1.000000000 | 1.000000000 | 1.000000000 | 1.000000000 | 1.000000000 | 0.543209877 | 1.000000000 | 1.000000000 | 1.000000000 | 1.000000000 | 0.401960784 | 1.000000000 | 1.000000000 | 1.000000000 | 1.000000000 | 1.000000000 | \n",
       "| modulbetreuung | 0.581349206 | 0.497023810 | 0.507142857 | 0.559523810 | 0.457010582 | 0.424973545 | 0.719047619 | 0.380952381 | 0.439560440 | 0.485890653 | 0.511904762 | 0.561904762 | 0.442634364 | 0.587301587 | 0.572829132 | 0.587301587 | 1.000000000 | 0.423494398 | 0.457983193 | 0.587301587 | \n",
       "| wasserfallmodel | 0.538888889 | 0.648611111 | 0.544444444 | 0.455555556 | 0.508333333 | 0.396767677 | 0.569444444 | 0.569444444 | 0.600213675 | 0.503703704 | 0.550000000 | 0.400000000 | 0.566959064 | 0.544444444 | 0.590849673 | 0.544444444 | 0.455555556 | 0.499019608 | 0.590849673 | 0.544444444 | \n",
       "| perl | 0.541666667 | 0.625000000 | 0.358333333 | 1.000000000 | 0.638888889 | 0.543333333 | 0.550000000 | 0.550000000 | 0.557692308 | 0.641975309 | 0.555555556 | 0.516666667 | 0.530701754 | 0.527777778 | 0.460784314 | 0.527777778 | 1.000000000 | 0.351715686 | 0.627450980 | 0.527777778 | \n",
       "| design | 0.472222222 | 0.548611111 | 0.461111111 | 1.000000000 | 0.555555556 | 0.455555556 | 0.488888889 | 0.400000000 | 0.317307692 | 0.574074074 | 0.666666667 | 0.544444444 | 0.593567251 | 0.555555556 | 0.591503268 | 0.555555556 | 1.000000000 | 0.552287582 | 0.449346405 | 0.555555556 | \n",
       "| qualitätsmanag | 0.538888889 | 0.519444444 | 0.594444444 | 0.561111111 | 0.556746032 | 0.457777778 | 0.569444444 | 0.416666667 | 0.450671551 | 0.503703704 | 0.533333333 | 0.488888889 | 0.594736842 | 0.588888889 | 0.524183007 | 0.588888889 | 0.561111111 | 0.554575163 | 0.526797386 | 0.588888889 | \n",
       "| delphi | 0.638888889 | 0.444444444 | 0.616666667 | 0.527777778 | 0.527777778 | 0.571111111 | 0.577777778 | 0.655555556 | 0.317307692 | 0.629629630 | 0.666666667 | 1.000000000 | 0.499269006 | 0.555555556 | 0.516339869 | 0.444444444 | 1.000000000 | 0.683006536 | 0.552287582 | 0.555555556 | \n",
       "\n",
       "\n"
      ],
      "text/plain": [
       "                vbscript    html.entwicklung programmieren.in.c.. abap       \n",
       "agil modell     0.594696970 0.443181818      0.480735931          0.414772727\n",
       "postgresql      0.552777778 0.615277778      0.387500000          0.550000000\n",
       "javascript      0.141666667 0.615277778      0.591666667          0.433333333\n",
       "c++             0.513888889 1.000000000      1.000000000          1.000000000\n",
       "modulbetreuung  0.581349206 0.497023810      0.507142857          0.559523810\n",
       "wasserfallmodel 0.538888889 0.648611111      0.544444444          0.455555556\n",
       "perl            0.541666667 0.625000000      0.358333333          1.000000000\n",
       "design          0.472222222 0.548611111      0.461111111          1.000000000\n",
       "qualitätsmanag  0.538888889 0.519444444      0.594444444          0.561111111\n",
       "delphi          0.638888889 0.444444444      0.616666667          0.527777778\n",
       "                softwareentwicklung.in.c agile.softwareentwicklung javascript \n",
       "agil modell     0.579040404              0.000000000               0.603030303\n",
       "postgresql      0.438888889              0.506666667               0.533333333\n",
       "javascript      0.494444444              0.497777778               0.000000000\n",
       "c++             1.000000000              1.000000000               1.000000000\n",
       "modulbetreuung  0.457010582              0.424973545               0.719047619\n",
       "wasserfallmodel 0.508333333              0.396767677               0.569444444\n",
       "perl            0.638888889              0.543333333               0.550000000\n",
       "design          0.555555556              0.455555556               0.488888889\n",
       "qualitätsmanag  0.556746032              0.457777778               0.569444444\n",
       "delphi          0.527777778              0.571111111               0.577777778\n",
       "                simulation  dokumentation visual.basic.programmierung\n",
       "agil modell     0.495454545 0.609945610   0.520089787                \n",
       "postgresql      0.533333333 0.600854701   0.571604938                \n",
       "javascript      0.566666667 0.656410256   0.467901235                \n",
       "c++             1.000000000 1.000000000   0.543209877                \n",
       "modulbetreuung  0.380952381 0.439560440   0.485890653                \n",
       "wasserfallmodel 0.569444444 0.600213675   0.503703704                \n",
       "perl            0.550000000 0.557692308   0.641975309                \n",
       "design          0.400000000 0.317307692   0.574074074                \n",
       "qualitätsmanag  0.416666667 0.450671551   0.503703704                \n",
       "delphi          0.655555556 0.317307692   0.629629630                \n",
       "                visual.basic sucrm       html.programmierung sap.co     \n",
       "agil modell     0.517676768  0.569696970 0.462918660         0.409090909\n",
       "postgresql      0.594444444  0.466666667 0.477192982         0.566666667\n",
       "javascript      0.461111111  0.366666667 0.578947368         0.511111111\n",
       "c++             1.000000000  1.000000000 1.000000000         1.000000000\n",
       "modulbetreuung  0.511904762  0.561904762 0.442634364         0.587301587\n",
       "wasserfallmodel 0.550000000  0.400000000 0.566959064         0.544444444\n",
       "perl            0.555555556  0.516666667 0.530701754         0.527777778\n",
       "design          0.666666667  0.544444444 0.593567251         0.555555556\n",
       "qualitätsmanag  0.533333333  0.488888889 0.594736842         0.588888889\n",
       "delphi          0.666666667  1.000000000 0.499269006         0.555555556\n",
       "                c..programmierung sap.hr      java        projektmanagement\n",
       "agil modell     0.550445633       0.494949495 0.553030303 0.683600713      \n",
       "postgresql      0.501960784       0.511111111 1.000000000 0.365931373      \n",
       "javascript      0.535294118       0.511111111 0.000000000 0.568627451      \n",
       "c++             0.401960784       1.000000000 1.000000000 1.000000000      \n",
       "modulbetreuung  0.572829132       0.587301587 1.000000000 0.423494398      \n",
       "wasserfallmodel 0.590849673       0.544444444 0.455555556 0.499019608      \n",
       "perl            0.460784314       0.527777778 1.000000000 0.351715686      \n",
       "design          0.591503268       0.555555556 1.000000000 0.552287582      \n",
       "qualitätsmanag  0.524183007       0.588888889 0.561111111 0.554575163      \n",
       "delphi          0.516339869       0.444444444 1.000000000 0.683006536      \n",
       "                agile.entwicklung sap.bw     \n",
       "agil modell     0.000000000       0.494949495\n",
       "postgresql      0.579901961       0.655555556\n",
       "javascript      0.579901961       0.655555556\n",
       "c++             1.000000000       1.000000000\n",
       "modulbetreuung  0.457983193       0.587301587\n",
       "wasserfallmodel 0.590849673       0.544444444\n",
       "perl            0.627450980       0.527777778\n",
       "design          0.449346405       0.555555556\n",
       "qualitätsmanag  0.526797386       0.588888889\n",
       "delphi          0.552287582       0.555555556"
      ]
     },
     "metadata": {},
     "output_type": "display_data"
    }
   ],
   "source": [
    "similarity_matrix # eigentlich distance matrix, 0=identisch"
   ]
  },
  {
   "cell_type": "markdown",
   "metadata": {},
   "source": [
    "### Finde die Paare mit der größten Ähnlichkeit pro Zeile"
   ]
  },
  {
   "cell_type": "code",
   "execution_count": 695,
   "metadata": {
    "collapsed": false
   },
   "outputs": [
    {
     "data": {
      "text/html": [
       "<table>\n",
       "<tbody>\n",
       "\t<tr><td>agil modell | agile.softwareentwicklung    </td><td>0                                          </td></tr>\n",
       "\t<tr><td>postgresql | projektmanagement             </td><td>0.36593137254902                           </td></tr>\n",
       "\t<tr><td>javascript | javascript                    </td><td>0                                          </td></tr>\n",
       "\t<tr><td>c++ | c..programmierung                    </td><td>0.401960784313726                          </td></tr>\n",
       "\t<tr><td>modulbetreuung | simulation                </td><td>0.380952380952381                          </td></tr>\n",
       "\t<tr><td>wasserfallmodel | agile.softwareentwicklung</td><td>0.396767676767677                          </td></tr>\n",
       "\t<tr><td>perl | projektmanagement                   </td><td>0.35171568627451                           </td></tr>\n",
       "\t<tr><td>design | dokumentation                     </td><td>0.317307692307692                          </td></tr>\n",
       "\t<tr><td>qualitätsmanag | simulation                </td><td>0.416666666666667                          </td></tr>\n",
       "\t<tr><td>delphi | dokumentation                     </td><td>0.317307692307692                          </td></tr>\n",
       "</tbody>\n",
       "</table>\n"
      ],
      "text/latex": [
       "\\begin{tabular}{ll}\n",
       "\t agil modell \\textbar{} agile.softwareentwicklung     & 0                                                    \\\\\n",
       "\t postgresql \\textbar{} projektmanagement              & 0.36593137254902                                     \\\\\n",
       "\t javascript \\textbar{} javascript                     & 0                                                    \\\\\n",
       "\t c++ \\textbar{} c..programmierung                     & 0.401960784313726                                    \\\\\n",
       "\t modulbetreuung \\textbar{} simulation                 & 0.380952380952381                                    \\\\\n",
       "\t wasserfallmodel \\textbar{} agile.softwareentwicklung & 0.396767676767677                                    \\\\\n",
       "\t perl \\textbar{} projektmanagement                    & 0.35171568627451                                     \\\\\n",
       "\t design \\textbar{} dokumentation                      & 0.317307692307692                                    \\\\\n",
       "\t qualitätsmanag \\textbar{} simulation                 & 0.416666666666667                                    \\\\\n",
       "\t delphi \\textbar{} dokumentation                      & 0.317307692307692                                    \\\\\n",
       "\\end{tabular}\n"
      ],
      "text/markdown": [
       "\n",
       "| agil modell | agile.softwareentwicklung     | 0                                           | \n",
       "| postgresql | projektmanagement              | 0.36593137254902                            | \n",
       "| javascript | javascript                     | 0                                           | \n",
       "| c++ | c..programmierung                     | 0.401960784313726                           | \n",
       "| modulbetreuung | simulation                 | 0.380952380952381                           | \n",
       "| wasserfallmodel | agile.softwareentwicklung | 0.396767676767677                           | \n",
       "| perl | projektmanagement                    | 0.35171568627451                            | \n",
       "| design | dokumentation                      | 0.317307692307692                           | \n",
       "| qualitätsmanag | simulation                 | 0.416666666666667                           | \n",
       "| delphi | dokumentation                      | 0.317307692307692                           | \n",
       "\n",
       "\n"
      ],
      "text/plain": [
       "      [,1]                                        [,2]             \n",
       " [1,] agil modell | agile.softwareentwicklung     0                \n",
       " [2,] postgresql | projektmanagement              0.36593137254902 \n",
       " [3,] javascript | javascript                     0                \n",
       " [4,] c++ | c..programmierung                     0.401960784313726\n",
       " [5,] modulbetreuung | simulation                 0.380952380952381\n",
       " [6,] wasserfallmodel | agile.softwareentwicklung 0.396767676767677\n",
       " [7,] perl | projektmanagement                    0.35171568627451 \n",
       " [8,] design | dokumentation                      0.317307692307692\n",
       " [9,] qualitätsmanag | simulation                 0.416666666666667\n",
       "[10,] delphi | dokumentation                      0.317307692307692"
      ]
     },
     "metadata": {},
     "output_type": "display_data"
    }
   ],
   "source": [
    "result <- t(sapply(seq(nrow(similarity_matrix)), function(i) {\n",
    "  most_similar <- which.min(similarity_matrix[i,])\n",
    "  c(paste(rownames(similarity_matrix)[i], colnames(similarity_matrix)[most_similar], sep=' | '),\n",
    "    similarity_matrix[i,most_similar])\n",
    "}))\n",
    "\n",
    "result"
   ]
  },
  {
   "cell_type": "code",
   "execution_count": 696,
   "metadata": {
    "collapsed": false
   },
   "outputs": [
    {
     "data": {
      "text/html": [
       "'character'"
      ],
      "text/latex": [
       "'character'"
      ],
      "text/markdown": [
       "'character'"
      ],
      "text/plain": [
       "[1] \"character\""
      ]
     },
     "metadata": {},
     "output_type": "display_data"
    }
   ],
   "source": [
    "typeof(result[\"Distanz\"])"
   ]
  },
  {
   "cell_type": "code",
   "execution_count": 697,
   "metadata": {
    "collapsed": true
   },
   "outputs": [],
   "source": [
    "colnames(result) <- c(\"Skillpaar\",\"Distanz\")"
   ]
  },
  {
   "cell_type": "code",
   "execution_count": 698,
   "metadata": {
    "collapsed": false
   },
   "outputs": [],
   "source": [
    "result <- as.data.frame(result)\n",
    "result$Distanz <- as.numeric(as.character(result$Distanz))\n",
    "rownames(result) <- rownames(Anforderungen)"
   ]
  },
  {
   "cell_type": "code",
   "execution_count": 699,
   "metadata": {
    "collapsed": false
   },
   "outputs": [
    {
     "data": {
      "text/html": [
       "<table>\n",
       "<thead><tr><th></th><th scope=col>Skillpaar</th><th scope=col>Distanz</th></tr></thead>\n",
       "<tbody>\n",
       "\t<tr><th scope=row>4</th><td>agil modell | agile.softwareentwicklung    </td><td>0.000000000                                </td></tr>\n",
       "\t<tr><th scope=row>29</th><td>postgresql | projektmanagement             </td><td>0.365931373                                </td></tr>\n",
       "\t<tr><th scope=row>18</th><td>javascript | javascript                    </td><td>0.000000000                                </td></tr>\n",
       "\t<tr><th scope=row>9</th><td>c++ | c..programmierung                    </td><td>0.401960784                                </td></tr>\n",
       "\t<tr><th scope=row>37</th><td>modulbetreuung | simulation                </td><td>0.380952381                                </td></tr>\n",
       "\t<tr><th scope=row>2</th><td>wasserfallmodel | agile.softwareentwicklung</td><td>0.396767677                                </td></tr>\n",
       "\t<tr><th scope=row>20</th><td>perl | projektmanagement                   </td><td>0.351715686                                </td></tr>\n",
       "\t<tr><th scope=row>40</th><td>design | dokumentation                     </td><td>0.317307692                                </td></tr>\n",
       "\t<tr><th scope=row>47</th><td>qualitätsmanag | simulation                </td><td>0.416666667                                </td></tr>\n",
       "\t<tr><th scope=row>12</th><td>delphi | dokumentation                     </td><td>0.317307692                                </td></tr>\n",
       "</tbody>\n",
       "</table>\n"
      ],
      "text/latex": [
       "\\begin{tabular}{r|ll}\n",
       "  & Skillpaar & Distanz\\\\\n",
       "\\hline\n",
       "\t4 & agil modell \\textbar{} agile.softwareentwicklung     & 0.000000000                                          \\\\\n",
       "\t29 & postgresql \\textbar{} projektmanagement              & 0.365931373                                          \\\\\n",
       "\t18 & javascript \\textbar{} javascript                     & 0.000000000                                          \\\\\n",
       "\t9 & c++ \\textbar{} c..programmierung                     & 0.401960784                                          \\\\\n",
       "\t37 & modulbetreuung \\textbar{} simulation                 & 0.380952381                                          \\\\\n",
       "\t2 & wasserfallmodel \\textbar{} agile.softwareentwicklung & 0.396767677                                          \\\\\n",
       "\t20 & perl \\textbar{} projektmanagement                    & 0.351715686                                          \\\\\n",
       "\t40 & design \\textbar{} dokumentation                      & 0.317307692                                          \\\\\n",
       "\t47 & qualitätsmanag \\textbar{} simulation                 & 0.416666667                                          \\\\\n",
       "\t12 & delphi \\textbar{} dokumentation                      & 0.317307692                                          \\\\\n",
       "\\end{tabular}\n"
      ],
      "text/markdown": [
       "\n",
       "| <!--/--> | Skillpaar | Distanz | \n",
       "|---|---|---|---|---|---|---|---|---|---|\n",
       "| 4 | agil modell | agile.softwareentwicklung     | 0.000000000                                 | \n",
       "| 29 | postgresql | projektmanagement              | 0.365931373                                 | \n",
       "| 18 | javascript | javascript                     | 0.000000000                                 | \n",
       "| 9 | c++ | c..programmierung                     | 0.401960784                                 | \n",
       "| 37 | modulbetreuung | simulation                 | 0.380952381                                 | \n",
       "| 2 | wasserfallmodel | agile.softwareentwicklung | 0.396767677                                 | \n",
       "| 20 | perl | projektmanagement                    | 0.351715686                                 | \n",
       "| 40 | design | dokumentation                      | 0.317307692                                 | \n",
       "| 47 | qualitätsmanag | simulation                 | 0.416666667                                 | \n",
       "| 12 | delphi | dokumentation                      | 0.317307692                                 | \n",
       "\n",
       "\n"
      ],
      "text/plain": [
       "   Skillpaar                                   Distanz    \n",
       "4  agil modell | agile.softwareentwicklung     0.000000000\n",
       "29 postgresql | projektmanagement              0.365931373\n",
       "18 javascript | javascript                     0.000000000\n",
       "9  c++ | c..programmierung                     0.401960784\n",
       "37 modulbetreuung | simulation                 0.380952381\n",
       "2  wasserfallmodel | agile.softwareentwicklung 0.396767677\n",
       "20 perl | projektmanagement                    0.351715686\n",
       "40 design | dokumentation                      0.317307692\n",
       "47 qualitätsmanag | simulation                 0.416666667\n",
       "12 delphi | dokumentation                      0.317307692"
      ]
     },
     "metadata": {},
     "output_type": "display_data"
    }
   ],
   "source": [
    "result"
   ]
  },
  {
   "cell_type": "markdown",
   "metadata": {},
   "source": [
    "### Zeige nur die Skills, die gematcht werden konnten"
   ]
  },
  {
   "cell_type": "markdown",
   "metadata": {},
   "source": [
    "Der Threshold wurde auf 0.25 maximale Jaro-Winkler Distanz gesetzt"
   ]
  },
  {
   "cell_type": "code",
   "execution_count": 700,
   "metadata": {
    "collapsed": false
   },
   "outputs": [
    {
     "data": {
      "text/html": [
       "<table>\n",
       "<thead><tr><th scope=col>Skillpaar</th><th scope=col>Distanz</th></tr></thead>\n",
       "<tbody>\n",
       "\t<tr><td>agil modell | agile.softwareentwicklung</td><td>0                                      </td></tr>\n",
       "\t<tr><td>javascript | javascript                </td><td>0                                      </td></tr>\n",
       "</tbody>\n",
       "</table>\n"
      ],
      "text/latex": [
       "\\begin{tabular}{r|ll}\n",
       " Skillpaar & Distanz\\\\\n",
       "\\hline\n",
       "\t agil modell \\textbar{} agile.softwareentwicklung & 0                                                \\\\\n",
       "\t javascript \\textbar{} javascript                 & 0                                                \\\\\n",
       "\\end{tabular}\n"
      ],
      "text/markdown": [
       "\n",
       "Skillpaar | Distanz | \n",
       "|---|---|\n",
       "| agil modell | agile.softwareentwicklung | 0                                       | \n",
       "| javascript | javascript                 | 0                                       | \n",
       "\n",
       "\n"
      ],
      "text/plain": [
       "  Skillpaar                               Distanz\n",
       "1 agil modell | agile.softwareentwicklung 0      \n",
       "2 javascript | javascript                 0      "
      ]
     },
     "metadata": {},
     "output_type": "display_data"
    },
    {
     "name": "stdout",
     "output_type": "stream",
     "text": [
      "Anzahl der gematchten Skills: 2"
     ]
    }
   ],
   "source": [
    "filter(result, Distanz<=0.25)\n",
    "cat(\"Anzahl der gematchten Skills:\", nrow(filter(result, Distanz<=0.25)))"
   ]
  },
  {
   "cell_type": "code",
   "execution_count": 701,
   "metadata": {
    "collapsed": false
   },
   "outputs": [
    {
     "data": {
      "image/png": "[encoded data removed]",
      "text/plain": [
       "plot without title"
      ]
     },
     "metadata": {},
     "output_type": "display_data"
    }
   ],
   "source": [
    "heatmap(as.matrix(similarity_matrix), Rowv=NA, Colv=NA, col=brewer.pal(9,\"Blues\"), margins =c(10,10))\n"
   ]
  },
  {
   "cell_type": "code",
   "execution_count": null,
   "metadata": {
    "collapsed": true
   },
   "outputs": [],
   "source": []
  }
 ],
 "metadata": {
  "kernelspec": {
   "display_name": "R",
   "language": "R",
   "name": "ir"
  },
  "language_info": {
   "codemirror_mode": "r",
   "file_extension": ".r",
   "mimetype": "text/x-r-source",
   "name": "R",
   "pygments_lexer": "r",
   "version": "3.3.2"
  }
 },
 "nbformat": 4,
 "nbformat_minor": 1
}
